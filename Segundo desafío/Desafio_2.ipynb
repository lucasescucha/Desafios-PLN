{
 "cells": [
  {
   "cell_type": "markdown",
   "metadata": {
    "id": "sZd5yLnnHOK0"
   },
   "source": [
    "<img src=\"https://github.com/hernancontigiani/ceia_memorias_especializacion/raw/master/Figures/logoFIUBA.jpg\" width=\"500\" align=\"center\">\n",
    "\n",
    "\n",
    "# Procesamiento de lenguaje natural\n",
    "## Custom embedddings con Gensim\n",
    "\n"
   ]
  },
  {
   "cell_type": "markdown",
   "metadata": {
    "id": "vA7nqkumo9z9"
   },
   "source": [
    "### Objetivo\n",
    "El objetivo es utilizar documentos / corpus para crear embeddings de palabras basado en ese contexto. Se utilizará canciones de bandas para generar los embeddings, es decir, que los vectores tendrán la forma en función de como esa banda haya utilizado las palabras en sus canciones."
   ]
  },
  {
   "cell_type": "code",
   "execution_count": null,
   "metadata": {
    "id": "lFToQs5FK5uZ"
   },
   "outputs": [],
   "source": [
    "import pandas as pd\n",
    "import matplotlib.pyplot as plt\n",
    "import seaborn as sns\n",
    "\n",
    "import multiprocessing\n",
    "from gensim.models import Word2Vec\n"
   ]
  },
  {
   "cell_type": "markdown",
   "metadata": {
    "id": "g07zJxG7H9vG"
   },
   "source": [
    "### Datos\n",
    "Utilizaremos como dataset canciones de bandas de habla inglesa."
   ]
  },
  {
   "cell_type": "code",
   "execution_count": null,
   "metadata": {
    "id": "l7z4CSBfpR3X"
   },
   "outputs": [],
   "source": [
    "# Descargar la carpeta de dataset\n",
    "import os\n",
    "import platform\n",
    "import zipfile\n",
    "\n",
    "if os.access('./songs_dataset', os.F_OK) is False:\n",
    "    if os.access('songs_dataset.zip', os.F_OK) is False:\n",
    "        if platform.system() == 'Windows':\n",
    "            !curl https: // raw.githubusercontent.com/FIUBA-Posgrado-Inteligencia-Artificial/procesamiento_lenguaje_natural/main/datasets/songs_dataset.zip - o songs_dataset.zip\n",
    "        else:\n",
    "            !wget songs_dataset.zip https: // github.com/FIUBA-Posgrado-Inteligencia-Artificial/procesamiento_lenguaje_natural/raw/main/datasets/songs_dataset.zip\n",
    "\n",
    "        with zipfile.ZipFile('./songs_dataset.zip') as zip:\n",
    "            zip.extractall()\n",
    "else:\n",
    "    print(\"El dataset ya se encuentra descargado\")\n"
   ]
  },
  {
   "cell_type": "code",
   "execution_count": null,
   "metadata": {
    "id": "mysGrIw9ljC2"
   },
   "outputs": [],
   "source": [
    "# Posibles bandas\n",
    "os.listdir(\"./songs_dataset/\")\n"
   ]
  },
  {
   "cell_type": "code",
   "execution_count": 104,
   "metadata": {
    "id": "ticoqYD1Z3I7"
   },
   "outputs": [
    {
     "name": "stderr",
     "output_type": "stream",
     "text": [
      "C:\\Users\\Lucas\\AppData\\Local\\Temp\\ipykernel_11304\\1070875078.py:2: ParserWarning: Falling back to the 'python' engine because the 'c' engine does not support regex separators (separators > 1 char and different from '\\s+' are interpreted as regex); you can avoid this warning by specifying engine='python'.\n",
      "  df = pd.read_csv('songs_dataset/beatles.txt', sep='/n', header=None)\n"
     ]
    },
    {
     "data": {
      "text/html": [
       "<div>\n",
       "<style scoped>\n",
       "    .dataframe tbody tr th:only-of-type {\n",
       "        vertical-align: middle;\n",
       "    }\n",
       "\n",
       "    .dataframe tbody tr th {\n",
       "        vertical-align: top;\n",
       "    }\n",
       "\n",
       "    .dataframe thead th {\n",
       "        text-align: right;\n",
       "    }\n",
       "</style>\n",
       "<table border=\"1\" class=\"dataframe\">\n",
       "  <thead>\n",
       "    <tr style=\"text-align: right;\">\n",
       "      <th></th>\n",
       "      <th>0</th>\n",
       "    </tr>\n",
       "  </thead>\n",
       "  <tbody>\n",
       "    <tr>\n",
       "      <th>0</th>\n",
       "      <td>Yesterday, all my troubles seemed so far away</td>\n",
       "    </tr>\n",
       "    <tr>\n",
       "      <th>1</th>\n",
       "      <td>Now it looks as though they're here to stay</td>\n",
       "    </tr>\n",
       "    <tr>\n",
       "      <th>2</th>\n",
       "      <td>Oh, I believe in yesterday Suddenly, I'm not h...</td>\n",
       "    </tr>\n",
       "    <tr>\n",
       "      <th>3</th>\n",
       "      <td>There's a shadow hanging over me.</td>\n",
       "    </tr>\n",
       "    <tr>\n",
       "      <th>4</th>\n",
       "      <td>Oh, yesterday came suddenly Why she had to go ...</td>\n",
       "    </tr>\n",
       "  </tbody>\n",
       "</table>\n",
       "</div>"
      ],
      "text/plain": [
       "                                                   0\n",
       "0      Yesterday, all my troubles seemed so far away\n",
       "1        Now it looks as though they're here to stay\n",
       "2  Oh, I believe in yesterday Suddenly, I'm not h...\n",
       "3                  There's a shadow hanging over me.\n",
       "4  Oh, yesterday came suddenly Why she had to go ..."
      ]
     },
     "execution_count": 104,
     "metadata": {},
     "output_type": "execute_result"
    }
   ],
   "source": [
    "# Armar el dataset utilizando salto de línea para separar las oraciones/docs\n",
    "df = pd.read_csv('songs_dataset/beatles.txt', sep='/n', header=None)\n",
    "df.head()\n"
   ]
  },
  {
   "cell_type": "code",
   "execution_count": 105,
   "metadata": {
    "id": "LEpKubK9XzXN"
   },
   "outputs": [
    {
     "name": "stdout",
     "output_type": "stream",
     "text": [
      "Cantidad de documentos: 1846\n"
     ]
    }
   ],
   "source": [
    "print(\"Cantidad de documentos:\", df.shape[0])\n"
   ]
  },
  {
   "cell_type": "markdown",
   "metadata": {
    "id": "ab94qaFlrA1G"
   },
   "source": [
    "### 1 - Preprocesamiento"
   ]
  },
  {
   "cell_type": "code",
   "execution_count": 106,
   "metadata": {
    "id": "rIsmMWmjrDHd"
   },
   "outputs": [],
   "source": [
    "from tensorflow.keras.preprocessing.text import text_to_word_sequence\n",
    "\n",
    "sentence_tokens = []\n",
    "# Recorrer todas las filas y transformar las oraciones\n",
    "# en una secuencia de palabras (esto podría realizarse con NLTK o spaCy también)\n",
    "for _, row in df[:None].iterrows():\n",
    "    sentence_tokens.append(text_to_word_sequence(row[0]))\n"
   ]
  },
  {
   "cell_type": "code",
   "execution_count": 107,
   "metadata": {
    "id": "CHepi_DGrbhq"
   },
   "outputs": [
    {
     "data": {
      "text/plain": [
       "[['yesterday', 'all', 'my', 'troubles', 'seemed', 'so', 'far', 'away'],\n",
       " ['now', 'it', 'looks', 'as', 'though', \"they're\", 'here', 'to', 'stay']]"
      ]
     },
     "execution_count": 107,
     "metadata": {},
     "output_type": "execute_result"
    }
   ],
   "source": [
    "# Demos un vistazo\n",
    "sentence_tokens[:2]\n"
   ]
  },
  {
   "cell_type": "markdown",
   "metadata": {
    "id": "BaXV6nlHr5Aa"
   },
   "source": [
    "### 2 - Crear los vectores (word2vec)"
   ]
  },
  {
   "cell_type": "code",
   "execution_count": 108,
   "metadata": {
    "id": "OSb0v7h8r7hK"
   },
   "outputs": [],
   "source": [
    "from gensim.models.callbacks import CallbackAny2Vec\n",
    "# Durante el entrenamiento gensim por defecto no informa el \"loss\" en cada época\n",
    "# Sobrecargamos el callback para poder tener esta información\n",
    "\n",
    "\n",
    "class callback(CallbackAny2Vec):\n",
    "    \"\"\"\n",
    "    Callback to print loss after each epoch\n",
    "    \"\"\"\n",
    "\n",
    "    def __init__(self):\n",
    "        self.epoch = 0\n",
    "\n",
    "    def on_epoch_end(self, model):\n",
    "        loss = model.get_latest_training_loss()\n",
    "        if self.epoch == 0:\n",
    "            print('Loss after epoch {}: {}'.format(self.epoch, loss))\n",
    "        else:\n",
    "            print('Loss after epoch {}: {}'.format(\n",
    "                self.epoch, loss - self.loss_previous_step))\n",
    "        self.epoch += 1\n",
    "        self.loss_previous_step = loss\n"
   ]
  },
  {
   "cell_type": "code",
   "execution_count": 109,
   "metadata": {
    "id": "i0wnDdv9sJ47"
   },
   "outputs": [],
   "source": [
    "# Crearmos el modelo generador de vectores\n",
    "# En este caso utilizaremos la estructura modelo Skipgram\n",
    "w2v_model = Word2Vec(min_count=5,    # frecuencia mínima de palabra para incluirla en el vocabulario\n",
    "                     window=2,       # cant de palabras antes y desp de la predicha\n",
    "                     vector_size=300,       # dimensionalidad de los vectores\n",
    "                     negative=20,    # cantidad de negative samples... 0 es no se usa\n",
    "                     workers=1,      # si tienen más cores pueden cambiar este valor\n",
    "                     sg=1)           # modelo 0:CBOW  1:skipgram\n"
   ]
  },
  {
   "cell_type": "code",
   "execution_count": 110,
   "metadata": {
    "id": "5lTt8wErsf17"
   },
   "outputs": [],
   "source": [
    "# Obtener el vocabulario con los tokens\n",
    "w2v_model.build_vocab(sentence_tokens)\n"
   ]
  },
  {
   "cell_type": "code",
   "execution_count": 111,
   "metadata": {
    "id": "TNc9qt4os5AT"
   },
   "outputs": [
    {
     "name": "stdout",
     "output_type": "stream",
     "text": [
      "Cantidad de docs en el corpus: 1846\n"
     ]
    }
   ],
   "source": [
    "# Cantidad de filas/docs encontradas en el corpus\n",
    "print(\"Cantidad de docs en el corpus:\", w2v_model.corpus_count)\n"
   ]
  },
  {
   "cell_type": "code",
   "execution_count": 112,
   "metadata": {
    "id": "idw9cHF3tSMl"
   },
   "outputs": [
    {
     "name": "stdout",
     "output_type": "stream",
     "text": [
      "Cantidad de words distintas en el corpus: 445\n"
     ]
    }
   ],
   "source": [
    "# Cantidad de words encontradas en el corpus\n",
    "print(\"Cantidad de words distintas en el corpus:\",\n",
    "      len(w2v_model.wv.index_to_key))\n"
   ]
  },
  {
   "cell_type": "markdown",
   "metadata": {
    "id": "fC9mZ8DPk-UC"
   },
   "source": [
    "### 3 - Entrenar embeddings"
   ]
  },
  {
   "cell_type": "code",
   "execution_count": 113,
   "metadata": {
    "id": "QSp-x0PAsq56"
   },
   "outputs": [
    {
     "name": "stdout",
     "output_type": "stream",
     "text": [
      "Loss after epoch 0: 113208.15625\n",
      "Loss after epoch 1: 65953.953125\n",
      "Loss after epoch 2: 65934.265625\n",
      "Loss after epoch 3: 65711.96875\n",
      "Loss after epoch 4: 63872.5\n",
      "Loss after epoch 5: 64142.46875\n",
      "Loss after epoch 6: 64058.8125\n",
      "Loss after epoch 7: 64755.4375\n",
      "Loss after epoch 8: 62585.5625\n",
      "Loss after epoch 9: 60415.25\n",
      "Loss after epoch 10: 59823.625\n",
      "Loss after epoch 11: 58930.1875\n",
      "Loss after epoch 12: 57726.4375\n",
      "Loss after epoch 13: 56493.125\n",
      "Loss after epoch 14: 55842.5625\n",
      "Loss after epoch 15: 55862.5\n",
      "Loss after epoch 16: 51695.8125\n",
      "Loss after epoch 17: 49815.5\n",
      "Loss after epoch 18: 49568.125\n",
      "Loss after epoch 19: 48959.75\n"
     ]
    },
    {
     "data": {
      "text/plain": [
       "(156986, 287740)"
      ]
     },
     "execution_count": 113,
     "metadata": {},
     "output_type": "execute_result"
    }
   ],
   "source": [
    "# Entrenamos el modelo generador de vectores\n",
    "# Utilizamos nuestro callback\n",
    "w2v_model.train(sentence_tokens,\n",
    "                total_examples=w2v_model.corpus_count,\n",
    "                epochs=20,\n",
    "                compute_loss=True,\n",
    "                callbacks=[callback()]\n",
    "                )\n"
   ]
  },
  {
   "cell_type": "markdown",
   "metadata": {
    "id": "ddT9NVuNlCAe"
   },
   "source": [
    "### 4 - Ensayar"
   ]
  },
  {
   "cell_type": "code",
   "execution_count": null,
   "metadata": {
    "id": "6cHN9xGLuPEm"
   },
   "outputs": [],
   "source": [
    "# Palabras que MÁS se relacionan con...:\n",
    "w2v_model.wv.most_similar(positive=[\"darling\"], topn=10)\n"
   ]
  },
  {
   "cell_type": "code",
   "execution_count": null,
   "metadata": {
    "id": "47HiU5gdkdMq"
   },
   "outputs": [],
   "source": [
    "# Palabras que MENOS se relacionan con...:\n",
    "w2v_model.wv.most_similar(negative=[\"love\"], topn=10)\n"
   ]
  },
  {
   "cell_type": "code",
   "execution_count": null,
   "metadata": {
    "id": "DT4Rvno2mD65"
   },
   "outputs": [],
   "source": [
    "# Palabras que MÁS se relacionan con...:\n",
    "w2v_model.wv.most_similar(positive=[\"four\"], topn=10)\n"
   ]
  },
  {
   "cell_type": "code",
   "execution_count": null,
   "metadata": {
    "id": "XPLDPgzBmQXt"
   },
   "outputs": [],
   "source": [
    "# Palabras que MÁS se relacionan con...:\n",
    "w2v_model.wv.most_similar(positive=[\"money\"], topn=5)\n"
   ]
  },
  {
   "cell_type": "code",
   "execution_count": null,
   "metadata": {
    "id": "L_UvHPMMklOr"
   },
   "outputs": [],
   "source": [
    "# Ensayar con una palabra que no está en el vocabulario:\n",
    "w2v_model.wv.most_similar(negative=[\"diedaa\"])\n"
   ]
  },
  {
   "cell_type": "code",
   "execution_count": null,
   "metadata": {},
   "outputs": [],
   "source": [
    "# el método `get_vector` permite obtener los vectores:\n",
    "vector_love = w2v_model.wv.get_vector(\"love\")\n",
    "print(vector_love)\n"
   ]
  },
  {
   "cell_type": "code",
   "execution_count": null,
   "metadata": {},
   "outputs": [],
   "source": [
    "# el método `most_similar` también permite comparar a partir de vectores\n",
    "w2v_model.wv.most_similar(vector_love)\n"
   ]
  },
  {
   "cell_type": "code",
   "execution_count": null,
   "metadata": {},
   "outputs": [],
   "source": [
    "# Palabras que MÁS se relacionan con...:\n",
    "w2v_model.wv.most_similar(positive=[\"love\"], topn=10)\n"
   ]
  },
  {
   "cell_type": "markdown",
   "metadata": {
    "id": "_g8UVWe6lFmh"
   },
   "source": [
    "### 5 - Visualizar agrupación de vectores"
   ]
  },
  {
   "cell_type": "code",
   "execution_count": 15,
   "metadata": {
    "id": "pDxEVXAivjr9"
   },
   "outputs": [],
   "source": [
    "from sklearn.decomposition import IncrementalPCA    \n",
    "from sklearn.manifold import TSNE                   \n",
    "import numpy as np                                  \n",
    "\n",
    "def reduce_dimensions(model, num_dimensions = 2 ):\n",
    "     \n",
    "    vectors = np.asarray(model.wv.vectors)\n",
    "    labels = np.asarray(model.wv.index_to_key)  \n",
    "\n",
    "    tsne = TSNE(n_components=num_dimensions, random_state=0)\n",
    "    vectors = tsne.fit_transform(vectors)\n",
    "\n",
    "    return vectors, labels"
   ]
  },
  {
   "cell_type": "code",
   "execution_count": null,
   "metadata": {
    "id": "NCCXtDpcugmd"
   },
   "outputs": [],
   "source": [
    "# Graficar los embedddings en 2D\n",
    "import plotly.graph_objects as go\n",
    "import plotly.express as px\n",
    "\n",
    "vecs, labels = reduce_dimensions(w2v_model)\n",
    "\n",
    "MAX_WORDS = 20\n",
    "# fig = plt.scatter(x=vecs[:MAX_WORDS,0], y=vecs[:MAX_WORDS,1], text=labels[:MAX_WORDS])\n",
    "# fig.show(renderer=\"colab\") # esto para plotly en colab\n",
    "\n",
    "fig = plt.figure()\n",
    "ax = fig.add_subplot()\n",
    "\n",
    "x = vecs[:MAX_WORDS, 0]\n",
    "y = vecs[:MAX_WORDS, 1]\n",
    "\n",
    "labels = labels[:MAX_WORDS]\n",
    "\n",
    "ax.scatter(x, y)\n",
    "\n",
    "for i, txt in enumerate(labels):\n",
    "    ax.annotate(txt, (x[i], y[i]))\n",
    "\n",
    "fig.show()\n"
   ]
  },
  {
   "cell_type": "code",
   "execution_count": null,
   "metadata": {},
   "outputs": [],
   "source": [
    "# Graficar los embedddings en 3D\n",
    "\n",
    "vecs, labels = reduce_dimensions(w2v_model, 3)\n",
    "\n",
    "# fig = px.scatter_3d(x=vecs[:MAX_WORDS,0], y=vecs[:MAX_WORDS,1], z=vecs[:MAX_WORDS,2],text=labels[:MAX_WORDS])\n",
    "# fig.update_traces(marker_size = 2)\n",
    "# fig.show(renderer=\"colab\") # esto para plotly en colab\n",
    "\n",
    "fig = plt.figure()\n",
    "ax = fig.add_subplot(projection='3d')\n",
    "\n",
    "x = vecs[:MAX_WORDS, 0]\n",
    "y = vecs[:MAX_WORDS, 1]\n",
    "z = vecs[:MAX_WORDS, 2]\n",
    "\n",
    "labels = labels[:MAX_WORDS]\n",
    "\n",
    "ax.scatter(x, y, z)\n",
    "\n",
    "for i, txt in enumerate(labels):\n",
    "    ax.text(x[i], y[i], z[i], txt)\n",
    "\n",
    "plt.show()\n"
   ]
  },
  {
   "cell_type": "code",
   "execution_count": null,
   "metadata": {},
   "outputs": [],
   "source": [
    "# También se pueden guardar los vectores y labels como tsv para graficar en\n",
    "# http://projector.tensorflow.org/\n",
    "\n",
    "\n",
    "vectors = np.asarray(w2v_model.wv.vectors)\n",
    "labels = list(w2v_model.wv.index_to_key)\n",
    "\n",
    "np.savetxt(\"vectors.tsv\", vectors, delimiter=\"\\t\")\n",
    "\n",
    "with open(\"labels.tsv\", \"w\") as fp:\n",
    "    for item in labels:\n",
    "        fp.write(\"%s\\n\" % item)\n"
   ]
  },
  {
   "cell_type": "markdown",
   "metadata": {
    "id": "yMM_SHSaZ9N-"
   },
   "source": [
    "### Alumno"
   ]
  },
  {
   "cell_type": "markdown",
   "metadata": {
    "id": "WivQZ3ZCZ9N_"
   },
   "source": [
    "- Elegir algún corpus de texto de su preferencia (conviene que sea algo de lo cual ustedes tengan algo de conocimiento al respecto para poder después interpretar la similaridades de embeddings que estudien). Puede ser literatura, texto técnico, blogs, artículos, etc..."
   ]
  },
  {
   "cell_type": "markdown",
   "metadata": {},
   "source": [
    "Para este desafío se trabajará con un dataset que tienen todos las oraciones de la biblia. Este dataset fue curado utilizando las diferentes versiones de la biblia que provee *ebible.org*. Elijo este dataset porque creo que representa un texto que ha marcado la semántica de muchas culturas, durante largos períodos históricos."
   ]
  },
  {
   "cell_type": "code",
   "execution_count": 60,
   "metadata": {},
   "outputs": [
    {
     "name": "stderr",
     "output_type": "stream",
     "text": [
      "  % Total    % Received % Xferd  Average Speed   Time    Time     Time  Current\n",
      "                                 Dload  Upload   Total   Spent    Left  Speed\n",
      "\n",
      "  0     0    0     0    0     0      0      0 --:--:-- --:--:-- --:--:--     0\n",
      "  0     0    0     0    0     0      0      0 --:--:-- --:--:-- --:--:--     0\n",
      "  0     0    0     0    0     0      0      0 --:--:--  0:00:01 --:--:--     0\n",
      "  0 4100k    0 16384    0     0   6467      0  0:10:49  0:00:02  0:10:47  6478\n",
      " 90 4100k   90 3698k    0     0  1112k      0  0:00:03  0:00:03 --:--:-- 1114k\n",
      "100 4100k  100 4100k    0     0  1212k      0  0:00:03  0:00:03 --:--:-- 1214k\n"
     ]
    }
   ],
   "source": [
    "# Descargar la carpeta de dataset\n",
    "import os\n",
    "import platform\n",
    "import zipfile\n",
    "\n",
    "if os.access('spa-sparvg.txt', os.F_OK) is False:\n",
    "    if platform.system() == 'Windows':\n",
    "        !curl https: // raw.githubusercontent.com/BibleNLP/ebible/main/corpus/spa-spavbl.txt - o spa-sparvg.txt\n",
    "    else:\n",
    "        !wget spa-sparvg.txt https: // raw.githubusercontent.com/BibleNLP/ebible/main/corpus/spa-spavbl.txt\n",
    "else:\n",
    "    print(\"El dataset ya se encuentra descargado\")\n"
   ]
  },
  {
   "cell_type": "code",
   "execution_count": 2,
   "metadata": {},
   "outputs": [
    {
     "data": {
      "text/html": [
       "<div>\n",
       "<style scoped>\n",
       "    .dataframe tbody tr th:only-of-type {\n",
       "        vertical-align: middle;\n",
       "    }\n",
       "\n",
       "    .dataframe tbody tr th {\n",
       "        vertical-align: top;\n",
       "    }\n",
       "\n",
       "    .dataframe thead th {\n",
       "        text-align: right;\n",
       "    }\n",
       "</style>\n",
       "<table border=\"1\" class=\"dataframe\">\n",
       "  <thead>\n",
       "    <tr style=\"text-align: right;\">\n",
       "      <th></th>\n",
       "      <th>0</th>\n",
       "    </tr>\n",
       "  </thead>\n",
       "  <tbody>\n",
       "    <tr>\n",
       "      <th>0</th>\n",
       "      <td>En el principio, Dios creó los cielos y la tie...</td>\n",
       "    </tr>\n",
       "    <tr>\n",
       "      <th>1</th>\n",
       "      <td>La tierra carecía de forma y estaba vacía; la ...</td>\n",
       "    </tr>\n",
       "    <tr>\n",
       "      <th>2</th>\n",
       "      <td>Y Dios dijo: “¡Que haya luz!” y hubo luz.</td>\n",
       "    </tr>\n",
       "    <tr>\n",
       "      <th>3</th>\n",
       "      <td>Dios vio que la luz era buena, y separó a la l...</td>\n",
       "    </tr>\n",
       "    <tr>\n",
       "      <th>4</th>\n",
       "      <td>Entonces Dios llamó a la luz “día” y a la oscu...</td>\n",
       "    </tr>\n",
       "  </tbody>\n",
       "</table>\n",
       "</div>"
      ],
      "text/plain": [
       "                                                   0\n",
       "0  En el principio, Dios creó los cielos y la tie...\n",
       "1  La tierra carecía de forma y estaba vacía; la ...\n",
       "2          Y Dios dijo: “¡Que haya luz!” y hubo luz.\n",
       "3  Dios vio que la luz era buena, y separó a la l...\n",
       "4  Entonces Dios llamó a la luz “día” y a la oscu..."
      ]
     },
     "execution_count": 2,
     "metadata": {},
     "output_type": "execute_result"
    }
   ],
   "source": [
    "import pandas as pd\n",
    "\n",
    "bible_df = pd.read_csv('./spa-sparvg.txt', sep='/n',\n",
    "                       quotechar='\"', header=None, engine='python')\n",
    "bible_df.head()\n"
   ]
  },
  {
   "cell_type": "markdown",
   "metadata": {},
   "source": [
    "- Entrenar embeddings con el  corpus elegido utilizando Gensim. Pueden intentar modificar varios parámetros: tipo de modelo (cbow/skipgram), tamaño de vocabulario, tamaño de ventana de contexto, negative samples (que trataremos de hablar algo porque no hubo tiempo la vez pasada)."
   ]
  },
  {
   "cell_type": "code",
   "execution_count": 3,
   "metadata": {},
   "outputs": [],
   "source": [
    "from tensorflow.keras.preprocessing.text import text_to_word_sequence\n",
    "\n",
    "bible_sentence_tokens = []\n",
    "for _, row in bible_df[:None].iterrows():\n",
    "    bible_sentence_tokens.append(text_to_word_sequence(row[0]))\n"
   ]
  },
  {
   "cell_type": "code",
   "execution_count": 4,
   "metadata": {},
   "outputs": [],
   "source": [
    "from gensim.models.callbacks import CallbackAny2Vec\n",
    "# Durante el entrenamiento gensim por defecto no informa el \"loss\" en cada época\n",
    "# Sobrecargamos el callback para poder tener esta información\n",
    "\n",
    "\n",
    "class callback(CallbackAny2Vec):\n",
    "    \"\"\"\n",
    "    Callback to print loss after each epoch\n",
    "    \"\"\"\n",
    "\n",
    "    def __init__(self):\n",
    "        self.epoch = 0\n",
    "\n",
    "    def on_epoch_end(self, model):\n",
    "        loss = model.get_latest_training_loss()\n",
    "\n",
    "        loss_to_print = loss if self.epoch == 0 else (\n",
    "            loss - self.loss_previous_step)\n",
    "        print('Model {} loss after epoch {}: {}'.format(\n",
    "            str(model), self.epoch, loss_to_print))\n",
    "\n",
    "        self.epoch += 1\n",
    "        self.loss_previous_step = loss\n"
   ]
  },
  {
   "cell_type": "code",
   "execution_count": 5,
   "metadata": {},
   "outputs": [],
   "source": [
    "from gensim.models import Word2Vec\n",
    "\n",
    "MAX_WORKERS = 10\n",
    "\n",
    "def createModelAndTrain(model_config, epochs):\n",
    "\n",
    "    w2v_model = Word2Vec(min_count=model_config['min_count'],\n",
    "                         window=model_config['window'],\n",
    "                         vector_size=model_config['vector_size'],\n",
    "                         negative=model_config['negative'],\n",
    "                         workers=MAX_WORKERS,\n",
    "                         sg=model_config['sg'])\n",
    "\n",
    "    w2v_model.build_vocab(bible_sentence_tokens)\n",
    "\n",
    "    w2v_model.train(bible_sentence_tokens,\n",
    "                    total_examples=w2v_model.corpus_count,\n",
    "                    compute_loss=True,\n",
    "                    epochs=epochs)\n",
    "\n",
    "    return w2v_model\n"
   ]
  },
  {
   "cell_type": "code",
   "execution_count": 6,
   "metadata": {},
   "outputs": [
    {
     "name": "stdout",
     "output_type": "stream",
     "text": [
      "-------Starting a new WORD2VEC model training--------\n",
      "Training params: {'min_count': 5, 'window': 3, 'vector_size': 300, 'negative': 20, 'sg': 0}\n",
      "-------NEW WORD2VEC MODEL TRAINED--------\n",
      "Training loss: 5315460.0\n",
      "-------Starting a new WORD2VEC model training--------\n",
      "Training params: {'min_count': 5, 'window': 3, 'vector_size': 500, 'negative': 20, 'sg': 0}\n",
      "-------NEW WORD2VEC MODEL TRAINED--------\n",
      "Training loss: 5411646.5\n",
      "-------Starting a new WORD2VEC model training--------\n",
      "Training params: {'min_count': 5, 'window': 3, 'vector_size': 200, 'negative': 20, 'sg': 1}\n",
      "-------NEW WORD2VEC MODEL TRAINED--------\n",
      "Training loss: 21462632.0\n",
      "-------Starting a new WORD2VEC model training--------\n",
      "Training params: {'min_count': 5, 'window': 3, 'vector_size': 200, 'negative': 30, 'sg': 0}\n",
      "-------NEW WORD2VEC MODEL TRAINED--------\n",
      "Training loss: 5891037.5\n",
      "-------Starting a new WORD2VEC model training--------\n",
      "Training params: {'min_count': 5, 'window': 5, 'vector_size': 300, 'negative': 20, 'sg': 0}\n",
      "-------NEW WORD2VEC MODEL TRAINED--------\n",
      "Training loss: 5542334.5\n",
      "-------Starting a new WORD2VEC model training--------\n",
      "Training params: {'min_count': 20, 'window': 5, 'vector_size': 150, 'negative': 20, 'sg': 1}\n",
      "-------NEW WORD2VEC MODEL TRAINED--------\n",
      "Training loss: 29357664.0\n"
     ]
    }
   ],
   "source": [
    "TRAIN_EPOCHS = 50\n",
    "\n",
    "proposed_model_configs = [\n",
    "    {'min_count': 5, 'window': 3, 'vector_size': 300, 'negative': 20, 'sg': 0},\n",
    "    {'min_count': 5, 'window': 3, 'vector_size': 500, 'negative': 20, 'sg': 0},\n",
    "    {'min_count': 5, 'window': 3, 'vector_size': 200, 'negative': 20, 'sg': 1},\n",
    "    {'min_count': 5, 'window': 3, 'vector_size': 200, 'negative': 30, 'sg': 0},\n",
    "    {'min_count': 5, 'window': 5, 'vector_size': 300, 'negative': 20, 'sg': 0},\n",
    "    {'min_count': 20, 'window': 5, 'vector_size': 150, 'negative': 20, 'sg': 1}]\n",
    "\n",
    "trained_models = []\n",
    "for proposed_model_config in proposed_model_configs:\n",
    "    print('-------Starting a new WORD2VEC model training--------')\n",
    "    print('Training params:', proposed_model_config)\n",
    "\n",
    "    trained_model = createModelAndTrain(proposed_model_config, TRAIN_EPOCHS)\n",
    "    trained_models.append(trained_model)\n",
    "\n",
    "    print('-------NEW WORD2VEC MODEL TRAINED--------')\n",
    "    print('Training loss:', trained_model.get_latest_training_loss())"
   ]
  },
  {
   "cell_type": "code",
   "execution_count": 7,
   "metadata": {},
   "outputs": [],
   "source": [
    "import pickle\n",
    "pickle.dump(trained_models, open('trained_models.p', 'wb'))"
   ]
  },
  {
   "cell_type": "code",
   "execution_count": null,
   "metadata": {},
   "outputs": [],
   "source": [
    "trained_models = pickle.load(open('trained_models.p', 'rb'))"
   ]
  },
  {
   "cell_type": "markdown",
   "metadata": {},
   "source": [
    "Como se acaba de mostrar, se entrenaron distintos modelos con diferentes hiperparámetros. En los resultados se puede ver que el modelo que mejor performa es el primero, el cuál tiene la siguiente configuración:\n",
    "- min_count = 5\n",
    "- window = 3\n",
    "- vector_size = 300\n",
    "- negative = 20\n",
    "- sg = 0\n",
    "\n",
    "Luego de obtener estos hiperparámetros, se desarrolló un nuevo código para hacer una optimización uilizando un framework de optimización de hiperparámetros llamado Optuna. Sin embargo, los resultados obtenidos no fueron mejores que eligiendo algunos conjúntos de parámetros de forma manual. De todas maneras, se dejan las celdas que muestran el trabajo realizado (lamentablemente los resultados de la optimización fueron borrados)"
   ]
  },
  {
   "cell_type": "code",
   "execution_count": 12,
   "metadata": {},
   "outputs": [],
   "source": [
    "import optuna\n",
    "\n",
    "trialsModels = []\n",
    "\n",
    "\n",
    "def createModelAndTrain(min_count, window, vector_size, negative,\n",
    "                        workers, sg, epochs):\n",
    "\n",
    "    w2v_model = Word2Vec(min_count=min_count, window=window,\n",
    "                         vector_size=vector_size, negative=negative,\n",
    "                         workers=workers, sg=sg)\n",
    "\n",
    "    w2v_model.build_vocab(bible_sentence_tokens)\n",
    "\n",
    "    w2v_model.train(bible_sentence_tokens,\n",
    "                    total_examples=w2v_model.corpus_count,\n",
    "                    compute_loss=True,\n",
    "                    epochs=epochs)\n",
    "\n",
    "    return w2v_model\n",
    "\n",
    "\n",
    "def objective(trial):\n",
    "    min_count = 5\n",
    "    \n",
    "    window = trial.suggest_int('window', 2, 4)\n",
    "    vector_size = trial.suggest_int('vector_size', 200, 500)\n",
    "    negative = trial.suggest_int('negative', 15, 25)\n",
    "    \n",
    "    workers = 1\n",
    "    \n",
    "    sg = trial.suggest_categorical('sg', [0, 1])\n",
    "\n",
    "    epochs = trial.suggest_int('epochs', 20, 50)\n",
    "\n",
    "    w2v_model = createModelAndTrain(min_count, window, vector_size,\n",
    "                                    negative, workers, sg, epochs)\n",
    "\n",
    "    trialsModels.append(w2v_model)\n",
    "\n",
    "    return w2v_model.get_latest_training_loss()\n"
   ]
  },
  {
   "cell_type": "code",
   "execution_count": null,
   "metadata": {},
   "outputs": [],
   "source": [
    "study = optuna.create_study(direction=\"minimize\")\n",
    "study.optimize(objective, n_trials=20)\n",
    "study.best_params"
   ]
  },
  {
   "cell_type": "markdown",
   "metadata": {},
   "source": [
    "- Con alguna de versión de embeddigns que hayan entrenado (o con todas!) estudiar similaridades de términos que crean interesantes. Graficarlos en 2D y si quieren en 3D y destacar casos interesantes para su corpus. Interpretarlos del conocimiento a priori que tengan del corpus."
   ]
  },
  {
   "cell_type": "markdown",
   "metadata": {},
   "source": [
    "Antes de empezar con el análisis, se presentan algunas funciones que fueron desarrolladas con el fin de investigar el subespacio vectorial de los vectores que representan las palabras del corpus, obtenido con algunos de los modelos entrenados. Una de las funciones principales que se desarrolló es *findNearestRelatedWordByRelation*. A esta función se le puedn pasar dos palabras que permitan generar un vector relación, el cuál se obtiene haciendo la diferencia entre las dos representaciones vectoriales de las palabras, y una palabra de referencia cuyo vector asociado, será utilizado como orígen para sumarle la relación y observar a dónde nos lleva dicha relación, desde esa referencia. El lugar a dónde nos lleva la relación desde la referencia quedará determinado por el vector más cercano al destino alcanzado por la suma referencia más relación. El objetivo final de esta función es chequear si existe algún vector de concepto, tal como el género.\n",
    "La otra función a destacar es *chainOfRelations*. Esta función recibe una palabra de inicio y va buscando recursivamente las palabras con mayor similaridad. Repite este proceso hasta llegar a la palabra de orígen o hasta alcanzar la máxima profundidad establecida."
   ]
  },
  {
   "cell_type": "code",
   "execution_count": 54,
   "metadata": {},
   "outputs": [],
   "source": [
    "import numpy as np\n",
    "from sklearn.metrics.pairwise import cosine_similarity\n",
    "\n",
    "def word2Vector(model, word):\n",
    "    return model.wv.vectors[model.wv.key_to_index[word]]\n",
    "\n",
    "def findNearestWordInRelation(model, relation_vector, reference_word):\n",
    "    reference_vector = word2Vector(model, reference_word)\n",
    "    diffs = (reference_vector + relation_vector) - model.wv.vectors\n",
    "    modules = np.linalg.norm(diffs, axis=1)\n",
    "    nearest_word = model.wv.index_to_key[np.argmin(modules, axis=0)]\n",
    "\n",
    "    if nearest_word == reference_word:\n",
    "        print('There is not a word nearer than the reference word')\n",
    "    else:\n",
    "        return nearest_word\n",
    "\n",
    "def findNearestRelatedWordByRelation(model, start_word, end_word, reference_word):\n",
    "    relation = word2Vector(model, end_word) - word2Vector(model, start_word)\n",
    "    return findNearestWordInRelation(model, relation, reference_word)\n",
    "\n",
    "def chainOfRelations(model, start_word, max_depth=20):\n",
    "    results = [start_word]\n",
    "    next_word = start_word\n",
    "    for i in range(max_depth):        \n",
    "        next_word, similarity = model.wv.most_similar(positive=[next_word], topn=1)[0]\n",
    "        if next_word in results:\n",
    "            return results\n",
    "        else:\n",
    "            results.append(next_word)\n",
    "    "
   ]
  },
  {
   "cell_type": "markdown",
   "metadata": {},
   "source": [
    "A cotinuación, se van a hacer algunos análisis con el mejor modelo entrenado."
   ]
  },
  {
   "cell_type": "code",
   "execution_count": 9,
   "metadata": {},
   "outputs": [],
   "source": [
    "best_w2v_model = trained_models[0]"
   ]
  },
  {
   "cell_type": "code",
   "execution_count": 72,
   "metadata": {},
   "outputs": [
    {
     "data": {
      "text/plain": [
       "[('beneficio', 0.3947082757949829),\n",
       " ('fruto', 0.3788556754589081),\n",
       " ('podrás', 0.3546346426010132),\n",
       " ('cultivar', 0.3522382378578186),\n",
       " ('producirán', 0.33700793981552124),\n",
       " ('aroma', 0.33690667152404785),\n",
       " ('cosecharán', 0.3368656635284424),\n",
       " ('discernimiento', 0.3327734172344208),\n",
       " ('proceso', 0.32270705699920654),\n",
       " ('demuestre', 0.3190402686595917)]"
      ]
     },
     "execution_count": 72,
     "metadata": {},
     "output_type": "execute_result"
    }
   ],
   "source": [
    "best_w2v_model.wv.most_similar(positive=[\"placer\"], topn=10)"
   ]
  },
  {
   "cell_type": "markdown",
   "metadata": {},
   "source": [
    "En este primer análisis de similaridad me hace reflexionar sobre cómo, en este corpus, para correcto afirmar que semánticamente el placer no está relacionado con el cuerpo o la sexualidad. Aparece el *beneficio* como primer elemento similar y luego *fruto*, que en algún punto está relacionado a *cultivar* y *producirán*."
   ]
  },
  {
   "cell_type": "code",
   "execution_count": 79,
   "metadata": {},
   "outputs": [
    {
     "data": {
      "text/plain": [
       "[('defecto', 0.4603940546512604),\n",
       " ('problema', 0.44296109676361084),\n",
       " ('alguno', 0.4190731644630432),\n",
       " ('motivo', 0.41209250688552856),\n",
       " ('duda', 0.4117620885372162),\n",
       " ('apoyo', 0.40760889649391174),\n",
       " ('placer', 0.3947083055973053),\n",
       " ('crédito', 0.39363062381744385),\n",
       " ('sentido', 0.3753696084022522),\n",
       " ('interés', 0.37494444847106934)]"
      ]
     },
     "execution_count": 79,
     "metadata": {},
     "output_type": "execute_result"
    }
   ],
   "source": [
    "best_w2v_model.wv.most_similar(positive=[\"beneficio\"], topn=10)"
   ]
  },
  {
   "cell_type": "markdown",
   "metadata": {},
   "source": [
    "Por otro lado, el beneficio parece estar relacionado con *defecto* o *problema*. Tal vez puede leerse con que beneficiarse es está visto como un defecto o un problema. Si volvemos para atrás con nuestro análisis, podríamos decir (no sin que se nos pidan argumentos más fuertes que los mostrados) que el *placer* es un *defecto* o un *problema* desde la semántica de este corpus."
   ]
  },
  {
   "cell_type": "code",
   "execution_count": 27,
   "metadata": {},
   "outputs": [
    {
     "data": {
      "text/plain": [
       "['cristo', 'jesucristo', 'dios’', 'dios”', 'dios']"
      ]
     },
     "execution_count": 27,
     "metadata": {},
     "output_type": "execute_result"
    }
   ],
   "source": [
    "chainOfRelations(best_w2v_model, 'cristo')"
   ]
  },
  {
   "cell_type": "markdown",
   "metadata": {},
   "source": [
    "Me resulta interesante ver la circularidad del significado de *dios*. Si bien habrá otras similaridades que acá no se ven, creo que lo que se ve no es una cadena de relaciones semánticas sino una cadena de sinónimos.  "
   ]
  },
  {
   "cell_type": "code",
   "execution_count": 28,
   "metadata": {},
   "outputs": [
    {
     "data": {
      "text/plain": [
       "['placer', 'beneficio', 'apoyo', 'siclos', 'pesaba']"
      ]
     },
     "execution_count": 28,
     "metadata": {},
     "output_type": "execute_result"
    }
   ],
   "source": [
    "chainOfRelations(best_w2v_model, 'placer')"
   ]
  },
  {
   "cell_type": "markdown",
   "metadata": {},
   "source": [
    "Aá volvemos a ver como existe una cadena de significados que relacionan el placer con el beneficio, específicamente con el dinero. Descubrí que el *Siclo* \"... es una antigua unidad monetaria y de peso utilizada en el Oriente Próximo y en Mesopotamia.\" [Wikipedia]"
   ]
  },
  {
   "cell_type": "code",
   "execution_count": 74,
   "metadata": {},
   "outputs": [
    {
     "data": {
      "text/plain": [
       "[('perro', 0.49850600957870483),\n",
       " ('pobre', 0.3968130648136139),\n",
       " ('susurro', 0.3930138349533081),\n",
       " ('ciervo', 0.38576167821884155),\n",
       " ('burlador', 0.38448718190193176),\n",
       " ('beso', 0.3811718821525574),\n",
       " ('gusano', 0.37955302000045776),\n",
       " ('ladrón', 0.379283607006073),\n",
       " ('animal', 0.37586063146591187),\n",
       " ('acto', 0.37455666065216064)]"
      ]
     },
     "execution_count": 74,
     "metadata": {},
     "output_type": "execute_result"
    }
   ],
   "source": [
    "best_w2v_model.wv.most_similar(positive=[\"pecador\"], topn=10)"
   ]
  },
  {
   "cell_type": "code",
   "execution_count": 29,
   "metadata": {},
   "outputs": [
    {
     "data": {
      "text/plain": [
       "['pecador', 'perro', 'pájaro']"
      ]
     },
     "execution_count": 29,
     "metadata": {},
     "output_type": "execute_result"
    }
   ],
   "source": [
    "chainOfRelations(best_w2v_model, 'pecador')"
   ]
  },
  {
   "cell_type": "markdown",
   "metadata": {},
   "source": [
    "No termino de entender bien por qué *pecador* esta relacionado en primer lugar a *perro*. Sin embargo, resulta muy particular la relación de *pecador* con *pobre*. Desde mi conocimiento a priori del corpus, esta relación no es real."
   ]
  },
  {
   "cell_type": "code",
   "execution_count": 65,
   "metadata": {},
   "outputs": [
    {
     "data": {
      "text/plain": [
       "[('violencia', 0.5362457036972046),\n",
       " ('rebeldía', 0.47371798753738403),\n",
       " ('naturaleza', 0.4467545449733734),\n",
       " ('inmoralidad', 0.43959736824035645),\n",
       " ('brujería', 0.4392302334308624),\n",
       " ('culpa', 0.43859392404556274),\n",
       " ('jactancia', 0.43404364585876465),\n",
       " ('hostilidad', 0.43217140436172485),\n",
       " ('arrogancia', 0.4134955406188965),\n",
       " ('miseria', 0.40984609723091125)]"
      ]
     },
     "execution_count": 65,
     "metadata": {},
     "output_type": "execute_result"
    }
   ],
   "source": [
    "best_w2v_model.wv.most_similar(positive=['maldad'], topn=10)"
   ]
  },
  {
   "cell_type": "code",
   "execution_count": 75,
   "metadata": {},
   "outputs": [
    {
     "name": "stdout",
     "output_type": "stream",
     "text": [
      "There is not a word nearer than the reference word\n"
     ]
    }
   ],
   "source": [
    "findNearestRelatedWordByRelation(best_w2v_model, 'la', 'las', 'mujer')"
   ]
  },
  {
   "cell_type": "code",
   "execution_count": 67,
   "metadata": {},
   "outputs": [
    {
     "name": "stdout",
     "output_type": "stream",
     "text": [
      "There is not a word nearer than the reference word\n"
     ]
    }
   ],
   "source": [
    "findNearestRelatedWordByRelation(best_w2v_model, 'rey', 'reina', 'maría')"
   ]
  },
  {
   "cell_type": "code",
   "execution_count": 68,
   "metadata": {},
   "outputs": [
    {
     "name": "stdout",
     "output_type": "stream",
     "text": [
      "There is not a word nearer than the reference word\n"
     ]
    }
   ],
   "source": [
    "findNearestRelatedWordByRelation(best_w2v_model, 'hombre', 'mujer', 'mujeres')"
   ]
  },
  {
   "cell_type": "markdown",
   "metadata": {},
   "source": [
    "Lamentablemente en los ejemplos citados no se pudieron encontrar vectores de conceptos. Esto no implica que el modelo no contenga alguno o algunos."
   ]
  },
  {
   "cell_type": "markdown",
   "metadata": {},
   "source": [
    "Se aplican ahora los estudios al segundo mejor modelo entrenado."
   ]
  },
  {
   "cell_type": "code",
   "execution_count": 23,
   "metadata": {},
   "outputs": [],
   "source": [
    "second_best_w2v_model = trained_models[1]"
   ]
  },
  {
   "cell_type": "code",
   "execution_count": 25,
   "metadata": {},
   "outputs": [
    {
     "data": {
      "text/plain": [
       "['amor', 'bondad', 'fidelidad', 'inefable', 'confiable']"
      ]
     },
     "execution_count": 25,
     "metadata": {},
     "output_type": "execute_result"
    }
   ],
   "source": [
    "chainOfRelations(second_best_w2v_model, 'amor')"
   ]
  },
  {
   "cell_type": "code",
   "execution_count": 76,
   "metadata": {},
   "outputs": [
    {
     "data": {
      "text/plain": [
       "[('hombre”', 0.5075526237487793),\n",
       " ('fariseo', 0.49650827050209045),\n",
       " ('levita', 0.46902525424957275),\n",
       " ('niño', 0.4587970972061157),\n",
       " ('ladrón', 0.4384770691394806),\n",
       " ('granjero', 0.424030601978302),\n",
       " ('profeta', 0.4203355610370636),\n",
       " ('milagro', 0.4156551659107208),\n",
       " ('acto', 0.41405224800109863),\n",
       " ('ídolo', 0.4052458107471466)]"
      ]
     },
     "execution_count": 76,
     "metadata": {},
     "output_type": "execute_result"
    }
   ],
   "source": [
    "best_w2v_model.wv.most_similar(positive=['hombre'], topn=10)"
   ]
  },
  {
   "cell_type": "code",
   "execution_count": 78,
   "metadata": {},
   "outputs": [
    {
     "data": {
      "text/plain": [
       "['hombre', 'hombre”']"
      ]
     },
     "execution_count": 78,
     "metadata": {},
     "output_type": "execute_result"
    }
   ],
   "source": [
    "chainOfRelations(second_best_w2v_model, 'hombre')"
   ]
  },
  {
   "cell_type": "code",
   "execution_count": 77,
   "metadata": {},
   "outputs": [
    {
     "data": {
      "text/plain": [
       "[('viuda', 0.5723856091499329),\n",
       " ('esposa', 0.5245794057846069),\n",
       " ('prostituta', 0.5072476267814636),\n",
       " ('mujer”', 0.44288548827171326),\n",
       " ('oveja', 0.43697062134742737),\n",
       " ('secreción', 0.4369061589241028),\n",
       " ('obligación', 0.43553075194358826),\n",
       " ('persona', 0.423968106508255),\n",
       " ('paloma', 0.41715535521507263),\n",
       " ('rut', 0.41298598051071167)]"
      ]
     },
     "execution_count": 77,
     "metadata": {},
     "output_type": "execute_result"
    }
   ],
   "source": [
    "best_w2v_model.wv.most_similar(positive=['mujer'], topn=10)"
   ]
  },
  {
   "cell_type": "code",
   "execution_count": 79,
   "metadata": {},
   "outputs": [
    {
     "data": {
      "text/plain": [
       "['mujer', 'viuda']"
      ]
     },
     "execution_count": 79,
     "metadata": {},
     "output_type": "execute_result"
    }
   ],
   "source": [
    "chainOfRelations(second_best_w2v_model, 'mujer')"
   ]
  },
  {
   "cell_type": "markdown",
   "metadata": {},
   "source": [
    "En los dos ejemplos anteriores, vemos curiosas asociaciones entre las palabras *hombre* y *mujer*. Por un lado, en la cadena de relaciones encontramos que el término *hombre* se asocia primeramente a sí mismo y también con atributos o adjetivos relacionados a actividades sociales. Por otro, el término *mujer* se relaciona con la viudés y también con la relación marital, es decir, el término *esposa*. Esto es interesante para mí, porque da una idea de que en el contexto de este corpus, la mujer está definida en función de la existencia de un esposo o en la muerte del mismo."
   ]
  },
  {
   "cell_type": "code",
   "execution_count": 95,
   "metadata": {},
   "outputs": [],
   "source": [
    "import matplotlib.pyplot as plt\n",
    "import seaborn as sns\n",
    "\n",
    "from sklearn.decomposition import IncrementalPCA\n",
    "from sklearn.manifold import TSNE\n",
    "\n",
    "import numpy as np\n",
    "\n",
    "\n",
    "def reduce_dimensions(word_model, num_dimensions=2, algorithm='tsne'):\n",
    "\n",
    "    vectors = np.asarray(word_model.wv.vectors)\n",
    "    labels = np.asarray(word_model.wv.index_to_key)\n",
    "\n",
    "    if algorithm == 'tsne':\n",
    "        model = TSNE(n_components=num_dimensions, random_state=0)\n",
    "    else:\n",
    "        model = IncrementalPCA(n_components=num_dimensions)\n",
    "\n",
    "    vectors = model.fit(vectors)\n",
    "\n",
    "    return vectors, labels"
   ]
  },
  {
   "cell_type": "code",
   "execution_count": 96,
   "metadata": {},
   "outputs": [],
   "source": [
    "_2d_vecs, _2d_labels = reduce_dimensions(best_w2v_model)"
   ]
  },
  {
   "cell_type": "code",
   "execution_count": 91,
   "metadata": {},
   "outputs": [
    {
     "name": "stderr",
     "output_type": "stream",
     "text": [
      "C:\\Users\\Lucas\\AppData\\Local\\Temp\\ipykernel_2456\\245815540.py:16: UserWarning: FigureCanvasAgg is non-interactive, and thus cannot be shown\n",
      "  fig.show()\n"
     ]
    },
    {
     "data": {
      "image/png": "[encoded data removed]",
      "text/plain": [
       "<Figure size 1500x1500 with 1 Axes>"
      ]
     },
     "metadata": {},
     "output_type": "display_data"
    }
   ],
   "source": [
    "MAX_WORDS = 50\n",
    "\n",
    "fig = plt.figure(figsize=(15, 15))\n",
    "ax = fig.add_subplot()\n",
    "\n",
    "x = _2d_vecs[:MAX_WORDS, 0]\n",
    "y = _2d_vecs[:MAX_WORDS, 1]\n",
    "\n",
    "labels = _2d_labels[:MAX_WORDS]\n",
    "\n",
    "ax.scatter(x, y)\n",
    "\n",
    "for i, txt in enumerate(labels):\n",
    "    ax.annotate(txt, (x[i], y[i]))\n",
    "\n",
    "fig.show()\n"
   ]
  },
  {
   "cell_type": "code",
   "execution_count": null,
   "metadata": {},
   "outputs": [],
   "source": [
    "_2d_pca_vecs, _2d_pca_labels = reduce_dimensions(best_w2v_model, algorithm='pca')"
   ]
  },
  {
   "cell_type": "code",
   "execution_count": 84,
   "metadata": {},
   "outputs": [
    {
     "ename": "KeyboardInterrupt",
     "evalue": "",
     "output_type": "error",
     "traceback": [
      "\u001b[1;31m---------------------------------------------------------------------------\u001b[0m",
      "\u001b[1;31mKeyboardInterrupt\u001b[0m                         Traceback (most recent call last)",
      "Cell \u001b[1;32mIn[84], line 1\u001b[0m\n\u001b[1;32m----> 1\u001b[0m vecs, labels \u001b[38;5;241m=\u001b[39m \u001b[43mreduce_dimensions\u001b[49m\u001b[43m(\u001b[49m\u001b[43mbest_w2v_model\u001b[49m\u001b[43m,\u001b[49m\u001b[43m \u001b[49m\u001b[38;5;241;43m3\u001b[39;49m\u001b[43m)\u001b[49m\n\u001b[0;32m      3\u001b[0m fig \u001b[38;5;241m=\u001b[39m plt\u001b[38;5;241m.\u001b[39mfigure()\n\u001b[0;32m      4\u001b[0m ax \u001b[38;5;241m=\u001b[39m fig\u001b[38;5;241m.\u001b[39madd_subplot(projection\u001b[38;5;241m=\u001b[39m\u001b[38;5;124m'\u001b[39m\u001b[38;5;124m3d\u001b[39m\u001b[38;5;124m'\u001b[39m)\n",
      "Cell \u001b[1;32mIn[81], line 20\u001b[0m, in \u001b[0;36mreduce_dimensions\u001b[1;34m(word_model, num_dimensions, algorithm)\u001b[0m\n\u001b[0;32m     17\u001b[0m \u001b[38;5;28;01melse\u001b[39;00m:\n\u001b[0;32m     18\u001b[0m     model \u001b[38;5;241m=\u001b[39m IncrementalPCA(n_components\u001b[38;5;241m=\u001b[39mnum_dimensions)\n\u001b[1;32m---> 20\u001b[0m vectors \u001b[38;5;241m=\u001b[39m \u001b[43mmodel\u001b[49m\u001b[38;5;241;43m.\u001b[39;49m\u001b[43mfit_transform\u001b[49m\u001b[43m(\u001b[49m\u001b[43mvectors\u001b[49m\u001b[43m)\u001b[49m\n\u001b[0;32m     22\u001b[0m \u001b[38;5;28;01mreturn\u001b[39;00m vectors, labels\n",
      "File \u001b[1;32mc:\\Users\\Lucas\\OneDrive\\Documentos\\UBA\\IA\\4-Cuarto bimestre\\Procesamiento del Lenguaje Natural\\Desafíos\\.venv\\Lib\\site-packages\\sklearn\\utils\\_set_output.py:295\u001b[0m, in \u001b[0;36m_wrap_method_output.<locals>.wrapped\u001b[1;34m(self, X, *args, **kwargs)\u001b[0m\n\u001b[0;32m    293\u001b[0m \u001b[39m@wraps\u001b[39m(f)\n\u001b[0;32m    294\u001b[0m \u001b[39mdef\u001b[39;00m \u001b[39mwrapped\u001b[39m(\u001b[39mself\u001b[39m, X, \u001b[39m*\u001b[39margs, \u001b[39m*\u001b[39m\u001b[39m*\u001b[39mkwargs):\n\u001b[1;32m--> 295\u001b[0m     data_to_wrap \u001b[39m=\u001b[39m f(\u001b[39mself\u001b[39;49m, X, \u001b[39m*\u001b[39;49margs, \u001b[39m*\u001b[39;49m\u001b[39m*\u001b[39;49mkwargs)\n\u001b[0;32m    296\u001b[0m     \u001b[39mif\u001b[39;00m \u001b[39misinstance\u001b[39m(data_to_wrap, \u001b[39mtuple\u001b[39m):\n\u001b[0;32m    297\u001b[0m         \u001b[39m# only wrap the first output for cross decomposition\u001b[39;00m\n\u001b[0;32m    298\u001b[0m         return_tuple \u001b[39m=\u001b[39m (\n\u001b[0;32m    299\u001b[0m             _wrap_data_with_container(method, data_to_wrap[\u001b[39m0\u001b[39m], X, \u001b[39mself\u001b[39m),\n\u001b[0;32m    300\u001b[0m             \u001b[39m*\u001b[39mdata_to_wrap[\u001b[39m1\u001b[39m:],\n\u001b[0;32m    301\u001b[0m         )\n",
      "File \u001b[1;32mc:\\Users\\Lucas\\OneDrive\\Documentos\\UBA\\IA\\4-Cuarto bimestre\\Procesamiento del Lenguaje Natural\\Desafíos\\.venv\\Lib\\site-packages\\sklearn\\base.py:1474\u001b[0m, in \u001b[0;36m_fit_context.<locals>.decorator.<locals>.wrapper\u001b[1;34m(estimator, *args, **kwargs)\u001b[0m\n\u001b[0;32m   1467\u001b[0m     estimator\u001b[39m.\u001b[39m_validate_params()\n\u001b[0;32m   1469\u001b[0m \u001b[39mwith\u001b[39;00m config_context(\n\u001b[0;32m   1470\u001b[0m     skip_parameter_validation\u001b[39m=\u001b[39m(\n\u001b[0;32m   1471\u001b[0m         prefer_skip_nested_validation \u001b[39mor\u001b[39;00m global_skip_validation\n\u001b[0;32m   1472\u001b[0m     )\n\u001b[0;32m   1473\u001b[0m ):\n\u001b[1;32m-> 1474\u001b[0m     \u001b[39mreturn\u001b[39;00m fit_method(estimator, \u001b[39m*\u001b[39;49margs, \u001b[39m*\u001b[39;49m\u001b[39m*\u001b[39;49mkwargs)\n",
      "File \u001b[1;32mc:\\Users\\Lucas\\OneDrive\\Documentos\\UBA\\IA\\4-Cuarto bimestre\\Procesamiento del Lenguaje Natural\\Desafíos\\.venv\\Lib\\site-packages\\sklearn\\manifold\\_t_sne.py:1136\u001b[0m, in \u001b[0;36mTSNE.fit_transform\u001b[1;34m(self, X, y)\u001b[0m\n\u001b[0;32m   1115\u001b[0m \u001b[39m\u001b[39m\u001b[39m\"\"\"Fit X into an embedded space and return that transformed output.\u001b[39;00m\n\u001b[0;32m   1116\u001b[0m \n\u001b[0;32m   1117\u001b[0m \u001b[39mParameters\u001b[39;00m\n\u001b[1;32m   (...)\u001b[0m\n\u001b[0;32m   1133\u001b[0m \u001b[39m    Embedding of the training data in low-dimensional space.\u001b[39;00m\n\u001b[0;32m   1134\u001b[0m \u001b[39m\"\"\"\u001b[39;00m\n\u001b[0;32m   1135\u001b[0m \u001b[39mself\u001b[39m\u001b[39m.\u001b[39m_check_params_vs_input(X)\n\u001b[1;32m-> 1136\u001b[0m embedding \u001b[39m=\u001b[39m \u001b[39mself\u001b[39;49m\u001b[39m.\u001b[39;49m_fit(X)\n\u001b[0;32m   1137\u001b[0m \u001b[39mself\u001b[39m\u001b[39m.\u001b[39membedding_ \u001b[39m=\u001b[39m embedding\n\u001b[0;32m   1138\u001b[0m \u001b[39mreturn\u001b[39;00m \u001b[39mself\u001b[39m\u001b[39m.\u001b[39membedding_\n",
      "File \u001b[1;32mc:\\Users\\Lucas\\OneDrive\\Documentos\\UBA\\IA\\4-Cuarto bimestre\\Procesamiento del Lenguaje Natural\\Desafíos\\.venv\\Lib\\site-packages\\sklearn\\manifold\\_t_sne.py:1026\u001b[0m, in \u001b[0;36mTSNE._fit\u001b[1;34m(self, X, skip_num_points)\u001b[0m\n\u001b[0;32m   1020\u001b[0m \u001b[39m# Degrees of freedom of the Student's t-distribution. The suggestion\u001b[39;00m\n\u001b[0;32m   1021\u001b[0m \u001b[39m# degrees_of_freedom = n_components - 1 comes from\u001b[39;00m\n\u001b[0;32m   1022\u001b[0m \u001b[39m# \"Learning a Parametric Embedding by Preserving Local Structure\"\u001b[39;00m\n\u001b[0;32m   1023\u001b[0m \u001b[39m# Laurens van der Maaten, 2009.\u001b[39;00m\n\u001b[0;32m   1024\u001b[0m degrees_of_freedom \u001b[39m=\u001b[39m \u001b[39mmax\u001b[39m(\u001b[39mself\u001b[39m\u001b[39m.\u001b[39mn_components \u001b[39m-\u001b[39m \u001b[39m1\u001b[39m, \u001b[39m1\u001b[39m)\n\u001b[1;32m-> 1026\u001b[0m \u001b[39mreturn\u001b[39;00m \u001b[39mself\u001b[39;49m\u001b[39m.\u001b[39;49m_tsne(\n\u001b[0;32m   1027\u001b[0m     P,\n\u001b[0;32m   1028\u001b[0m     degrees_of_freedom,\n\u001b[0;32m   1029\u001b[0m     n_samples,\n\u001b[0;32m   1030\u001b[0m     X_embedded\u001b[39m=\u001b[39;49mX_embedded,\n\u001b[0;32m   1031\u001b[0m     neighbors\u001b[39m=\u001b[39;49mneighbors_nn,\n\u001b[0;32m   1032\u001b[0m     skip_num_points\u001b[39m=\u001b[39;49mskip_num_points,\n\u001b[0;32m   1033\u001b[0m )\n",
      "File \u001b[1;32mc:\\Users\\Lucas\\OneDrive\\Documentos\\UBA\\IA\\4-Cuarto bimestre\\Procesamiento del Lenguaje Natural\\Desafíos\\.venv\\Lib\\site-packages\\sklearn\\manifold\\_t_sne.py:1094\u001b[0m, in \u001b[0;36mTSNE._tsne\u001b[1;34m(self, P, degrees_of_freedom, n_samples, X_embedded, neighbors, skip_num_points)\u001b[0m\n\u001b[0;32m   1092\u001b[0m     opt_args[\u001b[39m\"\u001b[39m\u001b[39mmomentum\u001b[39m\u001b[39m\"\u001b[39m] \u001b[39m=\u001b[39m \u001b[39m0.8\u001b[39m\n\u001b[0;32m   1093\u001b[0m     opt_args[\u001b[39m\"\u001b[39m\u001b[39mn_iter_without_progress\u001b[39m\u001b[39m\"\u001b[39m] \u001b[39m=\u001b[39m \u001b[39mself\u001b[39m\u001b[39m.\u001b[39mn_iter_without_progress\n\u001b[1;32m-> 1094\u001b[0m     params, kl_divergence, it \u001b[39m=\u001b[39m _gradient_descent(obj_func, params, \u001b[39m*\u001b[39;49m\u001b[39m*\u001b[39;49mopt_args)\n\u001b[0;32m   1096\u001b[0m \u001b[39m# Save the final number of iterations\u001b[39;00m\n\u001b[0;32m   1097\u001b[0m \u001b[39mself\u001b[39m\u001b[39m.\u001b[39mn_iter_ \u001b[39m=\u001b[39m it\n",
      "File \u001b[1;32mc:\\Users\\Lucas\\OneDrive\\Documentos\\UBA\\IA\\4-Cuarto bimestre\\Procesamiento del Lenguaje Natural\\Desafíos\\.venv\\Lib\\site-packages\\sklearn\\manifold\\_t_sne.py:402\u001b[0m, in \u001b[0;36m_gradient_descent\u001b[1;34m(objective, p0, it, n_iter, n_iter_check, n_iter_without_progress, momentum, learning_rate, min_gain, min_grad_norm, verbose, args, kwargs)\u001b[0m\n\u001b[0;32m    399\u001b[0m \u001b[39m# only compute the error when needed\u001b[39;00m\n\u001b[0;32m    400\u001b[0m kwargs[\u001b[39m\"\u001b[39m\u001b[39mcompute_error\u001b[39m\u001b[39m\"\u001b[39m] \u001b[39m=\u001b[39m check_convergence \u001b[39mor\u001b[39;00m i \u001b[39m==\u001b[39m n_iter \u001b[39m-\u001b[39m \u001b[39m1\u001b[39m\n\u001b[1;32m--> 402\u001b[0m error, grad \u001b[39m=\u001b[39m objective(p, \u001b[39m*\u001b[39;49margs, \u001b[39m*\u001b[39;49m\u001b[39m*\u001b[39;49mkwargs)\n\u001b[0;32m    404\u001b[0m inc \u001b[39m=\u001b[39m update \u001b[39m*\u001b[39m grad \u001b[39m<\u001b[39m \u001b[39m0.0\u001b[39m\n\u001b[0;32m    405\u001b[0m dec \u001b[39m=\u001b[39m np\u001b[39m.\u001b[39minvert(inc)\n",
      "File \u001b[1;32mc:\\Users\\Lucas\\OneDrive\\Documentos\\UBA\\IA\\4-Cuarto bimestre\\Procesamiento del Lenguaje Natural\\Desafíos\\.venv\\Lib\\site-packages\\sklearn\\manifold\\_t_sne.py:283\u001b[0m, in \u001b[0;36m_kl_divergence_bh\u001b[1;34m(params, P, degrees_of_freedom, n_samples, n_components, angle, skip_num_points, verbose, compute_error, num_threads)\u001b[0m\n\u001b[0;32m    280\u001b[0m indptr \u001b[39m=\u001b[39m P\u001b[39m.\u001b[39mindptr\u001b[39m.\u001b[39mastype(np\u001b[39m.\u001b[39mint64, copy\u001b[39m=\u001b[39m\u001b[39mFalse\u001b[39;00m)\n\u001b[0;32m    282\u001b[0m grad \u001b[39m=\u001b[39m np\u001b[39m.\u001b[39mzeros(X_embedded\u001b[39m.\u001b[39mshape, dtype\u001b[39m=\u001b[39mnp\u001b[39m.\u001b[39mfloat32)\n\u001b[1;32m--> 283\u001b[0m error \u001b[39m=\u001b[39m _barnes_hut_tsne\u001b[39m.\u001b[39;49mgradient(\n\u001b[0;32m    284\u001b[0m     val_P,\n\u001b[0;32m    285\u001b[0m     X_embedded,\n\u001b[0;32m    286\u001b[0m     neighbors,\n\u001b[0;32m    287\u001b[0m     indptr,\n\u001b[0;32m    288\u001b[0m     grad,\n\u001b[0;32m    289\u001b[0m     angle,\n\u001b[0;32m    290\u001b[0m     n_components,\n\u001b[0;32m    291\u001b[0m     verbose,\n\u001b[0;32m    292\u001b[0m     dof\u001b[39m=\u001b[39;49mdegrees_of_freedom,\n\u001b[0;32m    293\u001b[0m     compute_error\u001b[39m=\u001b[39;49mcompute_error,\n\u001b[0;32m    294\u001b[0m     num_threads\u001b[39m=\u001b[39;49mnum_threads,\n\u001b[0;32m    295\u001b[0m )\n\u001b[0;32m    296\u001b[0m c \u001b[39m=\u001b[39m \u001b[39m2.0\u001b[39m \u001b[39m*\u001b[39m (degrees_of_freedom \u001b[39m+\u001b[39m \u001b[39m1.0\u001b[39m) \u001b[39m/\u001b[39m degrees_of_freedom\n\u001b[0;32m    297\u001b[0m grad \u001b[39m=\u001b[39m grad\u001b[39m.\u001b[39mravel()\n",
      "\u001b[1;31mKeyboardInterrupt\u001b[0m: "
     ]
    }
   ],
   "source": [
    "_3d_vecs, _3d_labels = reduce_dimensions(best_w2v_model, 3)"
   ]
  },
  {
   "cell_type": "code",
   "execution_count": null,
   "metadata": {},
   "outputs": [],
   "source": [
    "\n",
    "fig = plt.figure()\n",
    "ax = fig.add_subplot(projection='3d')\n",
    "\n",
    "x = vecs[:MAX_WORDS, 0]\n",
    "y = vecs[:MAX_WORDS, 1]\n",
    "z = vecs[:MAX_WORDS, 2]\n",
    "\n",
    "labels = labels[:MAX_WORDS]\n",
    "\n",
    "ax.scatter(x, y, z)\n",
    "\n",
    "for i, txt in enumerate(labels):\n",
    "    ax.text(x[i], y[i], z[i], txt)\n",
    "\n",
    "plt.show()"
   ]
  }
 ],
 "metadata": {
  "colab": {
   "collapsed_sections": [],
   "provenance": []
  },
  "kernelspec": {
   "display_name": "Python 3.11.0 ('.venv': venv)",
   "language": "python",
   "name": "python3"
  },
  "language_info": {
   "codemirror_mode": {
    "name": "ipython",
    "version": 3
   },
   "file_extension": ".py",
   "mimetype": "text/x-python",
   "name": "python",
   "nbconvert_exporter": "python",
   "pygments_lexer": "ipython3",
   "version": "3.11.0"
  },
  "vscode": {
   "interpreter": {
    "hash": "3665b71b1f87947a6a0581afb8566417d161099a0f2e07f190503844e5211dbf"
   }
  }
 },
 "nbformat": 4,
 "nbformat_minor": 4
}
