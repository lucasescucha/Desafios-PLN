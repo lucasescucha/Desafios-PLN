{
  "cells": [
    {
      "cell_type": "markdown",
      "metadata": {
        "id": "pfa39F4lsLf3"
      },
      "source": [
        "<img src=\"https://github.com/hernancontigiani/ceia_memorias_especializacion/raw/master/Figures/logoFIUBA.jpg\" width=\"500\" align=\"center\">\n",
        "\n",
        "\n",
        "# Procesamiento de lenguaje natural\n",
        "## LSTM Bot QA"
      ]
    },
    {
      "cell_type": "markdown",
      "metadata": {
        "id": "ZqO0PRcFsPTe"
      },
      "source": [
        "### Datos\n",
        "El objecto es utilizar datos disponibles del challenge ConvAI2 (Conversational Intelligence Challenge 2) de conversaciones en inglés. Se construirá un BOT para responder a preguntas del usuario (QA).\\\n",
        "[LINK](http://convai.io/data/)"
      ]
    },
    {
      "cell_type": "code",
      "execution_count": 1,
      "metadata": {
        "id": "bDFC0I3j9oFD"
      },
      "outputs": [],
      "source": [
        "!pip install --upgrade --no-cache-dir gdown --quiet"
      ]
    },
    {
      "cell_type": "code",
      "execution_count": 2,
      "metadata": {
        "id": "cq3YXak9sGHd"
      },
      "outputs": [],
      "source": [
        "import re\n",
        "\n",
        "import numpy as np\n",
        "import pandas as pd\n",
        "\n",
        "import tensorflow as tf\n",
        "from keras.preprocessing.text import one_hot\n",
        "from tensorflow.keras.utils import pad_sequences\n",
        "\n",
        "\n",
        "from keras.models import Model, Sequential\n",
        "from keras.layers import Input, Activation, Dropout, Dense\n",
        "from keras.layers import Flatten, LSTM, SimpleRNN\n",
        "\n",
        "from tensorflow.keras.layers import Embedding\n",
        "from sklearn.model_selection import train_test_split\n",
        "from keras.preprocessing.text import Tokenizer"
      ]
    },
    {
      "cell_type": "code",
      "execution_count": 3,
      "metadata": {
        "id": "RHNkUaPp6aYq",
        "colab": {
          "base_uri": "https://localhost:8080/"
        },
        "outputId": "f0cf7746-de49-4219-bd2d-8cbc2d8ae16f"
      },
      "outputs": [
        {
          "output_type": "stream",
          "name": "stderr",
          "text": [
            "Downloading...\n",
            "From: https://drive.google.com/uc?id=1awUxYwImF84MIT5-jCaYAPe2QwSgS1hN&export=download\n",
            "To: /content/data_volunteers.json\n",
            "100%|██████████| 2.58M/2.58M [00:00<00:00, 21.8MB/s]\n"
          ]
        }
      ],
      "source": [
        "# Descargar la carpeta de dataset\n",
        "import os\n",
        "import gdown\n",
        "if os.access('data_volunteers.json', os.F_OK) is False:\n",
        "    url = 'https://drive.google.com/uc?id=1awUxYwImF84MIT5-jCaYAPe2QwSgS1hN&export=download'\n",
        "    output = 'data_volunteers.json'\n",
        "    gdown.download(url, output, quiet=False)\n",
        "else:\n",
        "    print(\"El dataset ya se encuentra descargado\")"
      ]
    },
    {
      "cell_type": "code",
      "execution_count": 4,
      "metadata": {
        "id": "WZy1-wgG-Rp7"
      },
      "outputs": [],
      "source": [
        "# dataset_file\n",
        "import json\n",
        "\n",
        "text_file = \"data_volunteers.json\"\n",
        "with open(text_file) as f:\n",
        "    data = json.load(f) # la variable data será un diccionario"
      ]
    },
    {
      "cell_type": "code",
      "execution_count": 5,
      "metadata": {
        "id": "ue5qd54S-eew",
        "colab": {
          "base_uri": "https://localhost:8080/"
        },
        "outputId": "99446988-62c5-4bb6-d107-6a4e38732d12"
      },
      "outputs": [
        {
          "output_type": "execute_result",
          "data": {
            "text/plain": [
              "dict_keys(['dialog', 'start_time', 'end_time', 'bot_profile', 'user_profile', 'eval_score', 'profile_match', 'participant1_id', 'participant2_id'])"
            ]
          },
          "metadata": {},
          "execution_count": 5
        }
      ],
      "source": [
        "# Observar los campos disponibles en cada linea del dataset\n",
        "data[0].keys()"
      ]
    },
    {
      "cell_type": "code",
      "source": [
        "data[0]"
      ],
      "metadata": {
        "colab": {
          "base_uri": "https://localhost:8080/"
        },
        "id": "F7ZLiSbDp_OW",
        "outputId": "cef1ef54-dc05-4947-8e83-dd4eae9a97e1"
      },
      "execution_count": 6,
      "outputs": [
        {
          "output_type": "execute_result",
          "data": {
            "text/plain": [
              "{'dialog': [{'id': 0,\n",
              "   'sender': 'participant1',\n",
              "   'text': 'hi there',\n",
              "   'evaluation_score': None,\n",
              "   'sender_class': 'Human'}],\n",
              " 'start_time': '2018-10-29 03:32:08.296000',\n",
              " 'end_time': '2018-10-29 03:32:08.296000',\n",
              " 'bot_profile': ['i like to talk but people have a hard time understanding.',\n",
              "  'i like to look at blocks and sing about letters.',\n",
              "  'i like to eat chocolate candy.',\n",
              "  'when i grow up i want to be a dog.'],\n",
              " 'user_profile': ['i am a clean eater.',\n",
              "  'my parents were both very athletic.',\n",
              "  'i love running and preparing for marathons.',\n",
              "  'i am a cancer survivor.'],\n",
              " 'eval_score': None,\n",
              " 'profile_match': '',\n",
              " 'participant1_id': {'class': 'User', 'user_id': 'User 00172'},\n",
              " 'participant2_id': {'class': 'Bot', 'user_id': 'Bot 004'}}"
            ]
          },
          "metadata": {},
          "execution_count": 6
        }
      ]
    },
    {
      "cell_type": "code",
      "execution_count": 7,
      "metadata": {
        "id": "jHBRAXPl-3dz",
        "colab": {
          "base_uri": "https://localhost:8080/"
        },
        "outputId": "7a4f7b96-a4c8-4f29-a496-44404098402e"
      },
      "outputs": [
        {
          "output_type": "stream",
          "name": "stdout",
          "text": [
            "Cantidad de rows consumidas: 6033\n",
            "Cantidad de rows descartadas: 7479\n"
          ]
        }
      ],
      "source": [
        "chat_in = []\n",
        "chat_out = []\n",
        "\n",
        "input_sentences = []\n",
        "output_sentences = []\n",
        "output_sentences_inputs = []\n",
        "\n",
        "CHAT_MAX_CHARS = 30\n",
        "\n",
        "def clean_text(txt):\n",
        "    txt = txt.lower()\n",
        "    txt.replace(\"\\'d\", \" had\")\n",
        "    txt.replace(\"\\'s\", \" is\")\n",
        "    txt.replace(\"\\'m\", \" am\")\n",
        "    txt.replace(\"don't\", \"do not\")\n",
        "    txt = re.sub(r'\\W+', ' ', txt)\n",
        "\n",
        "    return txt\n",
        "\n",
        "n_discarded = 0\n",
        "for line in data:\n",
        "    for i in range(len(line['dialog'])-1):\n",
        "        # vamos separando el texto en \"preguntas\" (chat_in)\n",
        "        # y \"respuestas\" (chat_out)\n",
        "        chat_in = clean_text(line['dialog'][i]['text'])\n",
        "        chat_out = clean_text(line['dialog'][i+1]['text'])\n",
        "\n",
        "        if len(chat_in) >= CHAT_MAX_CHARS or len(chat_out) >= CHAT_MAX_CHARS:\n",
        "          n_discarded += 1\n",
        "          continue\n",
        "\n",
        "        input_sentence, output = chat_in, chat_out\n",
        "\n",
        "        # output sentence: (decoder_output) tiene <eos>\n",
        "        output_sentence = output + ' <eos>'\n",
        "        # output sentence input: (decoder_input) tiene <sos>\n",
        "        output_sentence_input = '<sos> ' + output\n",
        "\n",
        "        input_sentences.append(input_sentence)\n",
        "        output_sentences.append(output_sentence)\n",
        "        output_sentences_inputs.append(output_sentence_input)\n",
        "\n",
        "print(\"Cantidad de rows consumidas:\", len(input_sentences))\n",
        "print(\"Cantidad de rows descartadas:\", n_discarded)"
      ]
    },
    {
      "cell_type": "code",
      "execution_count": 8,
      "metadata": {
        "id": "07L1qj8pC_l6",
        "colab": {
          "base_uri": "https://localhost:8080/"
        },
        "outputId": "44e1660f-3483-4935-8612-b2e6facba04c"
      },
      "outputs": [
        {
          "output_type": "stream",
          "name": "stdout",
          "text": [
            "Ejemplo de entradas y salidas:\n"
          ]
        },
        {
          "output_type": "execute_result",
          "data": {
            "text/plain": [
              "('hi how are you ', 'not bad and you  <eos>', '<sos> not bad and you ')"
            ]
          },
          "metadata": {},
          "execution_count": 8
        }
      ],
      "source": [
        "print(\"Ejemplo de entradas y salidas:\")\n",
        "input_sentences[1], output_sentences[1], output_sentences_inputs[1]"
      ]
    },
    {
      "cell_type": "markdown",
      "source": [
        "# Resolución"
      ],
      "metadata": {
        "id": "AYsF0w4xSUMs"
      }
    },
    {
      "cell_type": "markdown",
      "source": [
        "Configuraciones recomendadas:\n",
        "\n",
        "*  MAX_VOCAB_SIZE = 8000\n",
        "*  max_length ~ 10\n",
        "*  Embeddings 300 Fasttext\n",
        "*  n_units = 128\n",
        "*  LSTM Dropout 0.2\n",
        "*  Epochs 30~50"
      ],
      "metadata": {
        "id": "pXoPOGF7tA8W"
      }
    },
    {
      "cell_type": "code",
      "source": [
        "MAX_VOCAB_SIZE = 8000\n",
        "max_length = 10\n",
        "n_units = 128\n",
        "dropout_p = 0.2\n",
        "epochs = 30"
      ],
      "metadata": {
        "id": "WRh90GiiVLx3"
      },
      "execution_count": 9,
      "outputs": []
    },
    {
      "cell_type": "markdown",
      "metadata": {
        "id": "8P-ynUNP5xp6"
      },
      "source": [
        "### 2 - Preprocesamiento\n",
        "Realizar el preprocesamiento necesario para obtener:\n",
        "- word2idx_inputs, max_input_len\n",
        "- word2idx_outputs, max_out_len, num_words_output\n",
        "- encoder_input_sequences, decoder_output_sequences, decoder_targets"
      ]
    },
    {
      "cell_type": "code",
      "source": [
        "from keras.preprocessing.text import Tokenizer"
      ],
      "metadata": {
        "id": "RFc_E5zFXrqn"
      },
      "execution_count": 10,
      "outputs": []
    },
    {
      "cell_type": "code",
      "source": [
        "input_tokenizer = Tokenizer(num_words=MAX_VOCAB_SIZE)\n",
        "input_tokenizer.fit_on_texts(input_sentences)\n",
        "\n",
        "input_sequences = input_tokenizer.texts_to_sequences(input_sentences)\n",
        "\n",
        "word2idx_input = input_tokenizer.word_index\n",
        "print(\"Palabras en el vocabulario en la entrada:\", len(word2idx_input))\n",
        "\n",
        "max_input_len = max(len(sen) for sen in input_sequences)\n",
        "print(\"Sentencia de entrada más larga:\", max_input_len)\n",
        "\n",
        "input_len = min(max_length, max_input_len)\n",
        "print(\"Tamaño de sentencia de entrada:\", input_len)"
      ],
      "metadata": {
        "colab": {
          "base_uri": "https://localhost:8080/"
        },
        "id": "lCaLFOhhSn6k",
        "outputId": "e7b2a835-bcca-4381-ca3a-1f861ac688ff"
      },
      "execution_count": 11,
      "outputs": [
        {
          "output_type": "stream",
          "name": "stdout",
          "text": [
            "Palabras en el vocabulario en la entrada: 1799\n",
            "Sentencia de entrada más larga: 9\n",
            "Tamaño de sentencia de entrada: 9\n"
          ]
        }
      ]
    },
    {
      "cell_type": "code",
      "source": [
        "output_tokenizer = Tokenizer(num_words=MAX_VOCAB_SIZE, filters='\"#$%&()*+-./:;=¿@[\\\\]^_`{|}~\\t\\n')\n",
        "output_tokenizer.fit_on_texts(output_sentences + output_sentences_inputs)\n",
        "\n",
        "output_sequences = output_tokenizer.texts_to_sequences(output_sentences)\n",
        "output_sequences_input = output_tokenizer.texts_to_sequences(output_sentences_inputs)\n",
        "\n",
        "word2idx_output = output_tokenizer.word_index\n",
        "print(\"Palabras en el vocabulario en la salida:\", len(word2idx_output))\n",
        "\n",
        "max_output_len = max(len(sen) for sen in output_sequences)\n",
        "print(\"Sentencia de salida más larga:\", max_output_len)\n",
        "\n",
        "output_len = min(max_length, max_output_len)\n",
        "print(\"Tamaño de sentencia de salida:\", output_len)"
      ],
      "metadata": {
        "colab": {
          "base_uri": "https://localhost:8080/"
        },
        "id": "GFVPohisY2bR",
        "outputId": "c759c66a-2881-4f91-d26a-dac1446fcf40"
      },
      "execution_count": 12,
      "outputs": [
        {
          "output_type": "stream",
          "name": "stdout",
          "text": [
            "Palabras en el vocabulario en la salida: 1806\n",
            "Sentencia de salida más larga: 10\n",
            "Tamaño de sentencia de salida: 10\n"
          ]
        }
      ]
    },
    {
      "cell_type": "code",
      "source": [
        "print(\"Cantidad de rows del dataset:\", len(input_sequences))\n",
        "\n",
        "encoder_input_sequences = pad_sequences(input_sequences, maxlen=input_len)\n",
        "print(\"encoder_input_sequences shape:\", encoder_input_sequences.shape)\n",
        "\n",
        "decoder_input_sequences = pad_sequences(output_sequences_input, maxlen=output_len, padding='post')\n",
        "print(\"decoder_input_sequences shape:\", decoder_input_sequences.shape)"
      ],
      "metadata": {
        "colab": {
          "base_uri": "https://localhost:8080/"
        },
        "id": "sjwhay4fZau1",
        "outputId": "386bc7c5-a3e6-476e-98eb-50cfdeaef943"
      },
      "execution_count": 13,
      "outputs": [
        {
          "output_type": "stream",
          "name": "stdout",
          "text": [
            "Cantidad de rows del dataset: 6033\n",
            "encoder_input_sequences shape: (6033, 9)\n",
            "decoder_input_sequences shape: (6033, 10)\n"
          ]
        }
      ]
    },
    {
      "cell_type": "code",
      "source": [
        "from keras.utils import to_categorical\n",
        "\n",
        "num_palabras_output = min(len(word2idx_output) + 1, MAX_VOCAB_SIZE)\n",
        "\n",
        "decoder_output_sequences = pad_sequences(output_sequences, maxlen=output_len, padding='post')\n",
        "decoder_targets = to_categorical(decoder_output_sequences, num_classes=num_palabras_output)\n",
        "decoder_targets.shape"
      ],
      "metadata": {
        "colab": {
          "base_uri": "https://localhost:8080/"
        },
        "id": "LH8V-UgEZPHH",
        "outputId": "017ec51e-8684-400a-f40c-6600645c6a01"
      },
      "execution_count": 14,
      "outputs": [
        {
          "output_type": "execute_result",
          "data": {
            "text/plain": [
              "(6033, 10, 1807)"
            ]
          },
          "metadata": {},
          "execution_count": 14
        }
      ]
    },
    {
      "cell_type": "markdown",
      "metadata": {
        "id": "_CJIsLBbj6rg"
      },
      "source": [
        "### 3 - Preparar los embeddings\n",
        "Utilizar los embeddings de Glove o FastText para transformar los tokens de entrada en vectores"
      ]
    },
    {
      "cell_type": "code",
      "source": [
        "import os\n",
        "import gdown\n",
        "if os.access('gloveembedding.pkl', os.F_OK) is False:\n",
        "    url = 'https://drive.google.com/uc?id=1KY6avD5I1eI2dxQzMkR3WExwKwRq2g94&export=download'\n",
        "    output = 'gloveembedding.pkl'\n",
        "    gdown.download(url, output, quiet=False)\n",
        "else:\n",
        "    print(\"Los embeddings gloveembedding.pkl ya están descargados\")"
      ],
      "metadata": {
        "colab": {
          "base_uri": "https://localhost:8080/"
        },
        "id": "Vqt4LXwmaVh2",
        "outputId": "a86ff4f8-b043-4b12-e7a9-30b59c495592"
      },
      "execution_count": 15,
      "outputs": [
        {
          "output_type": "stream",
          "name": "stderr",
          "text": [
            "Downloading...\n",
            "From (original): https://drive.google.com/uc?id=1KY6avD5I1eI2dxQzMkR3WExwKwRq2g94&export=download\n",
            "From (redirected): https://drive.google.com/uc?id=1KY6avD5I1eI2dxQzMkR3WExwKwRq2g94&export=download&confirm=t&uuid=4d320c10-0de1-40ce-9bd1-de9debaa4d73\n",
            "To: /content/gloveembedding.pkl\n",
            "100%|██████████| 525M/525M [00:04<00:00, 114MB/s] \n"
          ]
        }
      ]
    },
    {
      "cell_type": "code",
      "source": [
        "import logging\n",
        "import os\n",
        "from pathlib import Path\n",
        "from io import StringIO\n",
        "import pickle\n",
        "\n",
        "class WordsEmbeddings(object):\n",
        "    logger = logging.getLogger(__name__)\n",
        "\n",
        "    def __init__(self):\n",
        "        # load the embeddings\n",
        "        words_embedding_pkl = Path(self.PKL_PATH)\n",
        "        if not words_embedding_pkl.is_file():\n",
        "            words_embedding_txt = Path(self.WORD_TO_VEC_MODEL_TXT_PATH)\n",
        "            assert words_embedding_txt.is_file(), 'Words embedding not available'\n",
        "            embeddings = self.convert_model_to_pickle()\n",
        "        else:\n",
        "            embeddings = self.load_model_from_pickle()\n",
        "        self.embeddings = embeddings\n",
        "        # build the vocabulary hashmap\n",
        "        index = np.arange(self.embeddings.shape[0])\n",
        "        # Dicctionarios para traducir de embedding a IDX de la palabra\n",
        "        self.word2idx = dict(zip(self.embeddings['word'], index))\n",
        "        self.idx2word = dict(zip(index, self.embeddings['word']))\n",
        "\n",
        "    def get_words_embeddings(self, words):\n",
        "        words_idxs = self.words2idxs(words)\n",
        "        return self.embeddings[words_idxs]['embedding']\n",
        "\n",
        "    def words2idxs(self, words):\n",
        "        return np.array([self.word2idx.get(word, -1) for word in words])\n",
        "\n",
        "    def idxs2words(self, idxs):\n",
        "        return np.array([self.idx2word.get(idx, '-1') for idx in idxs])\n",
        "\n",
        "    def load_model_from_pickle(self):\n",
        "        self.logger.debug(\n",
        "            'loading words embeddings from pickle {}'.format(\n",
        "                self.PKL_PATH\n",
        "            )\n",
        "        )\n",
        "        max_bytes = 2**28 - 1 # 256MB\n",
        "        bytes_in = bytearray(0)\n",
        "        input_size = os.path.getsize(self.PKL_PATH)\n",
        "        with open(self.PKL_PATH, 'rb') as f_in:\n",
        "            for _ in range(0, input_size, max_bytes):\n",
        "                bytes_in += f_in.read(max_bytes)\n",
        "        embeddings = pickle.loads(bytes_in)\n",
        "        self.logger.debug('words embeddings loaded')\n",
        "        return embeddings\n",
        "\n",
        "    def convert_model_to_pickle(self):\n",
        "        # create a numpy strctured array:\n",
        "        # word     embedding\n",
        "        # U50      np.float32[]\n",
        "        # word_1   a, b, c\n",
        "        # word_2   d, e, f\n",
        "        # ...\n",
        "        # word_n   g, h, i\n",
        "        self.logger.debug(\n",
        "            'converting and loading words embeddings from text file {}'.format(\n",
        "                self.WORD_TO_VEC_MODEL_TXT_PATH\n",
        "            )\n",
        "        )\n",
        "        structure = [('word', np.dtype('U' + str(self.WORD_MAX_SIZE))),\n",
        "                     ('embedding', np.float32, (self.N_FEATURES,))]\n",
        "        structure = np.dtype(structure)\n",
        "        # load numpy array from disk using a generator\n",
        "        with open(self.WORD_TO_VEC_MODEL_TXT_PATH, encoding=\"utf8\") as words_embeddings_txt:\n",
        "            embeddings_gen = (\n",
        "                (line.split()[0], line.split()[1:]) for line in words_embeddings_txt\n",
        "                if len(line.split()[1:]) == self.N_FEATURES\n",
        "            )\n",
        "            embeddings = np.fromiter(embeddings_gen, structure)\n",
        "        # add a null embedding\n",
        "        null_embedding = np.array(\n",
        "            [('null_embedding', np.zeros((self.N_FEATURES,), dtype=np.float32))],\n",
        "            dtype=structure\n",
        "        )\n",
        "        embeddings = np.concatenate([embeddings, null_embedding])\n",
        "        # dump numpy array to disk using pickle\n",
        "        max_bytes = 2**28 - 1 # # 256MB\n",
        "        bytes_out = pickle.dumps(embeddings, protocol=pickle.HIGHEST_PROTOCOL)\n",
        "        with open(self.PKL_PATH, 'wb') as f_out:\n",
        "            for idx in range(0, len(bytes_out), max_bytes):\n",
        "                f_out.write(bytes_out[idx:idx+max_bytes])\n",
        "        self.logger.debug('words embeddings loaded')\n",
        "        return embeddings"
      ],
      "metadata": {
        "id": "ZkT19jkKaa2d"
      },
      "execution_count": 16,
      "outputs": []
    },
    {
      "cell_type": "code",
      "source": [
        "class GloveEmbeddings(WordsEmbeddings):\n",
        "    WORD_TO_VEC_MODEL_TXT_PATH = 'glove.twitter.27B.50d.txt'\n",
        "    PKL_PATH = 'gloveembedding.pkl'\n",
        "    N_FEATURES = 50\n",
        "    WORD_MAX_SIZE = 60"
      ],
      "metadata": {
        "id": "Jef9yMglalOu"
      },
      "execution_count": 17,
      "outputs": []
    },
    {
      "cell_type": "code",
      "source": [
        "model_embeddings = GloveEmbeddings()"
      ],
      "metadata": {
        "id": "rY2QG546alB1"
      },
      "execution_count": 18,
      "outputs": []
    },
    {
      "cell_type": "code",
      "source": [
        "def getEmbeddingsMatrix(model, word2idx):\n",
        "  embed_dim = model.N_FEATURES\n",
        "  words_not_found = []\n",
        "\n",
        "  nb_words = min(MAX_VOCAB_SIZE, len(word2idx) + 1)\n",
        "  embedding_matrix = np.zeros((nb_words, embed_dim))\n",
        "\n",
        "  for word, i in word2idx.items():\n",
        "      if i > nb_words:\n",
        "          print('Se alcanzó la cantidad máxima de palabras')\n",
        "          break\n",
        "\n",
        "      embedding_vector = model_embeddings.get_words_embeddings(word)[0]\n",
        "      if (embedding_vector is not None) and len(embedding_vector) > 0:\n",
        "          embedding_matrix[i] = embedding_vector\n",
        "      else:\n",
        "          # words not found in embedding index will be all-zeros.\n",
        "          words_not_found.append(word)\n",
        "\n",
        "  print('Palabras no encontradas', words_not_found)\n",
        "  print('Cantidad de embeddings nulos:', np.sum(np.sum(embedding_matrix**2, axis=1) == 0))\n",
        "  print('Shape de la matriz de embeddings:', embedding_matrix.shape)\n",
        "\n",
        "  return embedding_matrix"
      ],
      "metadata": {
        "id": "7bNwJzRFawiF"
      },
      "execution_count": 19,
      "outputs": []
    },
    {
      "cell_type": "code",
      "source": [
        "encoder_embedding_matrix = getEmbeddingsMatrix(model_embeddings, word2idx_input)\n",
        "decoder_embedding_matrix = getEmbeddingsMatrix(model_embeddings, word2idx_output)"
      ],
      "metadata": {
        "colab": {
          "base_uri": "https://localhost:8080/"
        },
        "id": "DZ5lFOZW9sur",
        "outputId": "6e178080-be62-4d45-d61a-c7a8c539ea54"
      },
      "execution_count": 20,
      "outputs": [
        {
          "output_type": "stream",
          "name": "stdout",
          "text": [
            "Palabras no encontradas []\n",
            "Cantidad de embeddings nulos: 38\n",
            "Shape de la matriz de embeddings: (1800, 50)\n",
            "Palabras no encontradas []\n",
            "Cantidad de embeddings nulos: 42\n",
            "Shape de la matriz de embeddings: (1807, 50)\n"
          ]
        }
      ]
    },
    {
      "cell_type": "markdown",
      "metadata": {
        "id": "3vKbhjtIwPgM"
      },
      "source": [
        "### 4 - Entrenar el modelo\n",
        "Entrenar un modelo basado en el esquema encoder-decoder utilizando los datos generados en los puntos anteriores. Utilce como referencias los ejemplos vistos en clase."
      ]
    },
    {
      "cell_type": "code",
      "source": [
        "dropout_p = 0.5\n",
        "\n",
        "n_units = 128\n",
        "layer2_n_units = 32\n",
        "\n",
        "from keras import backend as K\n",
        "K.clear_session()"
      ],
      "metadata": {
        "id": "dzqFaBhXwTq0"
      },
      "execution_count": 114,
      "outputs": []
    },
    {
      "cell_type": "markdown",
      "source": [
        "#### Encoder"
      ],
      "metadata": {
        "id": "3mNIR85Mu2nL"
      }
    },
    {
      "cell_type": "code",
      "source": [
        "nb_words = min(MAX_VOCAB_SIZE, len(word2idx_input) + 1)\n",
        "\n",
        "# Definición de las capas\n",
        "encoder_inputs = Input(shape=(input_len))\n",
        "\n",
        "encoder_embedding_layer = Embedding(\n",
        "          input_dim=nb_words,\n",
        "          output_dim=model_embeddings.N_FEATURES,\n",
        "          input_length=input_len,\n",
        "          weights=[encoder_embedding_matrix],\n",
        "          trainable=False)\n",
        "\n",
        "encoder_lstm_1 = LSTM(n_units, return_sequences=True, return_state=True)\n",
        "encoder_dopout_1 = Dropout(dropout_p)\n",
        "\n",
        "encoder_lstm_2 = LSTM(layer2_n_units, return_state=True)\n",
        "\n",
        "# Conexión entre las de capas\n",
        "encoder_inputs_x = encoder_embedding_layer(encoder_inputs)\n",
        "\n",
        "encoder_output_lstm1, state_h_1, state_c_1 = encoder_lstm_1(encoder_inputs_x)\n",
        "_, state_h_2, state_c_2 = encoder_lstm_2(encoder_dopout_1(encoder_output_lstm1))\n",
        "\n",
        "encoder_states_l1 = [state_h_1, state_c_1]\n",
        "encoder_states_l2 = [state_h_2, state_c_2]\n",
        "encoder_states = encoder_states_l1 + encoder_states_l2"
      ],
      "metadata": {
        "id": "44eZWMSbdw5_"
      },
      "execution_count": 115,
      "outputs": []
    },
    {
      "cell_type": "markdown",
      "source": [
        "#### Decoder (train)"
      ],
      "metadata": {
        "id": "xGtbTK9zu74R"
      }
    },
    {
      "cell_type": "code",
      "source": [
        "nb_words = min(MAX_VOCAB_SIZE, len(word2idx_output) + 1)\n",
        "\n",
        "# Definición de las capas\n",
        "decoder_inputs = Input(shape=(output_len))\n",
        "\n",
        "decoder_embedding_layer = Embedding(\n",
        "          input_dim=nb_words,\n",
        "          output_dim=model_embeddings.N_FEATURES,\n",
        "          input_length=output_len,\n",
        "          weights=[decoder_embedding_matrix],\n",
        "          trainable=False)\n",
        "\n",
        "decoder_lstm_1 = LSTM(n_units, return_sequences=True, return_state=True)\n",
        "decoder_dopout_1 = Dropout(dropout_p)\n",
        "\n",
        "decoder_lstm_2 = LSTM(layer2_n_units, return_sequences=True, return_state=True)\n",
        "\n",
        "decoder_dense = Dense(num_palabras_output, activation='softmax')\n",
        "\n",
        "# Conexión entre las de capas\n",
        "decoder_inputs_x = decoder_embedding_layer(decoder_inputs)\n",
        "\n",
        "decoder_lstm_1_output, _, _ = decoder_lstm_1(decoder_inputs_x, initial_state=encoder_states_l1)\n",
        "decoder_lstm_2_output, _, _ = decoder_lstm_2(decoder_dopout_1(decoder_lstm_1_output), initial_state=encoder_states_l2)\n",
        "\n",
        "decoder_outputs = decoder_dense(decoder_lstm_2_output)"
      ],
      "metadata": {
        "id": "Kg0GOYPn8CeA"
      },
      "execution_count": 116,
      "outputs": []
    },
    {
      "cell_type": "code",
      "source": [
        "model = Model([encoder_inputs, decoder_inputs], decoder_outputs)\n",
        "\n",
        "model.compile(loss='categorical_crossentropy', optimizer=\"Adam\", metrics=['accuracy'])\n",
        "model.summary()"
      ],
      "metadata": {
        "colab": {
          "base_uri": "https://localhost:8080/"
        },
        "id": "6kH3E0tD8GSv",
        "outputId": "4cb97680-0356-42f0-e886-640e54a8057f"
      },
      "execution_count": 117,
      "outputs": [
        {
          "output_type": "stream",
          "name": "stdout",
          "text": [
            "Model: \"model\"\n",
            "__________________________________________________________________________________________________\n",
            " Layer (type)                Output Shape                 Param #   Connected to                  \n",
            "==================================================================================================\n",
            " input_1 (InputLayer)        [(None, 9)]                  0         []                            \n",
            "                                                                                                  \n",
            " input_2 (InputLayer)        [(None, 10)]                 0         []                            \n",
            "                                                                                                  \n",
            " embedding (Embedding)       (None, 9, 50)                90000     ['input_1[0][0]']             \n",
            "                                                                                                  \n",
            " embedding_1 (Embedding)     (None, 10, 50)               90350     ['input_2[0][0]']             \n",
            "                                                                                                  \n",
            " lstm (LSTM)                 [(None, 9, 128),             91648     ['embedding[0][0]']           \n",
            "                              (None, 128),                                                        \n",
            "                              (None, 128)]                                                        \n",
            "                                                                                                  \n",
            " lstm_2 (LSTM)               [(None, 10, 128),            91648     ['embedding_1[0][0]',         \n",
            "                              (None, 128),                           'lstm[0][1]',                \n",
            "                              (None, 128)]                           'lstm[0][2]']                \n",
            "                                                                                                  \n",
            " dropout (Dropout)           (None, 9, 128)               0         ['lstm[0][0]']                \n",
            "                                                                                                  \n",
            " dropout_1 (Dropout)         (None, 10, 128)              0         ['lstm_2[0][0]']              \n",
            "                                                                                                  \n",
            " lstm_1 (LSTM)               [(None, 32),                 20608     ['dropout[0][0]']             \n",
            "                              (None, 32),                                                         \n",
            "                              (None, 32)]                                                         \n",
            "                                                                                                  \n",
            " lstm_3 (LSTM)               [(None, 10, 32),             20608     ['dropout_1[0][0]',           \n",
            "                              (None, 32),                            'lstm_1[0][1]',              \n",
            "                              (None, 32)]                            'lstm_1[0][2]']              \n",
            "                                                                                                  \n",
            " dense (Dense)               (None, 10, 1807)             59631     ['lstm_3[0][0]']              \n",
            "                                                                                                  \n",
            "==================================================================================================\n",
            "Total params: 464493 (1.77 MB)\n",
            "Trainable params: 284143 (1.08 MB)\n",
            "Non-trainable params: 180350 (704.49 KB)\n",
            "__________________________________________________________________________________________________\n"
          ]
        }
      ]
    },
    {
      "cell_type": "code",
      "source": [
        "# Modelo completo (encoder+decoder) para poder entrenar\n",
        "from keras.utils import plot_model\n",
        "plot_model(model, to_file='model_plot.png', show_shapes=True, show_layer_names=True)"
      ],
      "metadata": {
        "colab": {
          "base_uri": "https://localhost:8080/",
          "height": 754
        },
        "id": "6FGM14IDfr1t",
        "outputId": "099ae06a-3290-42fe-87ae-1740584a2c64"
      },
      "execution_count": 118,
      "outputs": [
        {
          "output_type": "execute_result",
          "data": {
            "image/png": "[encoded data removed]",
            "text/plain": [
              "<IPython.core.display.Image object>"
            ]
          },
          "metadata": {},
          "execution_count": 118
        }
      ]
    },
    {
      "cell_type": "code",
      "source": [
        "encoder_model = Model(encoder_inputs, encoder_states)\n",
        "\n",
        "plot_model(encoder_model, to_file='encoder_plot.png', show_shapes=True, show_layer_names=True)"
      ],
      "metadata": {
        "colab": {
          "base_uri": "https://localhost:8080/",
          "height": 533
        },
        "id": "lU6pkk1cgNeq",
        "outputId": "ec4548af-2632-4f88-f4f4-63fec1e0e024"
      },
      "execution_count": 119,
      "outputs": [
        {
          "output_type": "execute_result",
          "data": {
            "image/png": "[encoded data removed]",
            "text/plain": [
              "<IPython.core.display.Image object>"
            ]
          },
          "metadata": {},
          "execution_count": 119
        }
      ]
    },
    {
      "cell_type": "markdown",
      "source": [
        "#### Decoder (predict)"
      ],
      "metadata": {
        "id": "KsY7VV_5zMrq"
      }
    },
    {
      "cell_type": "code",
      "source": [
        "decoder_state_input_h_1 = Input(shape=(n_units,))\n",
        "decoder_state_input_c_1 = Input(shape=(n_units,))\n",
        "\n",
        "decoder_state_input_h_2 = Input(shape=(layer2_n_units,))\n",
        "decoder_state_input_c_2 = Input(shape=(layer2_n_units,))\n",
        "\n",
        "decoder_states_inputs_1 = [decoder_state_input_h_1, decoder_state_input_c_1]\n",
        "decoder_states_inputs_2 = [decoder_state_input_h_2, decoder_state_input_c_2]\n",
        "\n",
        "decoder_inputs_single = Input(shape=(1,))\n",
        "decoder_inputs_single_x = decoder_embedding_layer(decoder_inputs_single)\n",
        "\n",
        "decoder_lstm_1_output, state_h_1, state_c_1 = decoder_lstm_1(decoder_inputs_single_x, initial_state=decoder_states_inputs_1)\n",
        "decoder_lstm_2_output, state_h_2, state_c_2 = decoder_lstm_2(decoder_lstm_1_output, initial_state=decoder_states_inputs_2)\n",
        "\n",
        "decoder_states_1 = [state_h_1, state_c_1]\n",
        "decoder_states_2 = [state_h_2, state_c_2]\n",
        "\n",
        "decoder_outputs = decoder_dense(decoder_lstm_2_output)\n",
        "\n",
        "decoder_model = Model([decoder_inputs_single] + decoder_states_inputs_1 + decoder_states_inputs_2,\n",
        " [decoder_outputs] + decoder_states_1 + decoder_states_2)\n",
        "\n",
        "plot_model(decoder_model, to_file='decoder_plot.png', show_shapes=True, show_layer_names=True)"
      ],
      "metadata": {
        "colab": {
          "base_uri": "https://localhost:8080/",
          "height": 533
        },
        "id": "3aJ0O9DmgR1P",
        "outputId": "6677bc0c-400d-4335-a0c8-4958c04a4582"
      },
      "execution_count": 120,
      "outputs": [
        {
          "output_type": "execute_result",
          "data": {
            "image/png": "[encoded data removed]",
            "text/plain": [
              "<IPython.core.display.Image object>"
            ]
          },
          "metadata": {},
          "execution_count": 120
        }
      ]
    },
    {
      "cell_type": "code",
      "source": [
        "hist = model.fit(\n",
        "    [encoder_input_sequences, decoder_input_sequences],\n",
        "    decoder_targets,\n",
        "    epochs=55,\n",
        "    validation_split=0.3)"
      ],
      "metadata": {
        "colab": {
          "base_uri": "https://localhost:8080/"
        },
        "id": "IknNN1wzgbz5",
        "outputId": "96c315cb-10a9-4655-ac6e-bcb6d05dc02e"
      },
      "execution_count": 121,
      "outputs": [
        {
          "output_type": "stream",
          "name": "stdout",
          "text": [
            "Epoch 1/55\n",
            "132/132 [==============================] - 9s 22ms/step - loss: 4.5330 - accuracy: 0.4829 - val_loss: 3.0328 - val_accuracy: 0.5101\n",
            "Epoch 2/55\n",
            "132/132 [==============================] - 1s 11ms/step - loss: 2.9729 - accuracy: 0.4885 - val_loss: 2.9102 - val_accuracy: 0.5101\n",
            "Epoch 3/55\n",
            "132/132 [==============================] - 1s 11ms/step - loss: 2.7344 - accuracy: 0.4885 - val_loss: 2.5258 - val_accuracy: 0.5101\n",
            "Epoch 4/55\n",
            "132/132 [==============================] - 1s 11ms/step - loss: 2.3936 - accuracy: 0.5513 - val_loss: 2.3066 - val_accuracy: 0.6312\n",
            "Epoch 5/55\n",
            "132/132 [==============================] - 1s 11ms/step - loss: 2.2380 - accuracy: 0.6117 - val_loss: 2.2107 - val_accuracy: 0.6313\n",
            "Epoch 6/55\n",
            "132/132 [==============================] - 1s 11ms/step - loss: 2.1434 - accuracy: 0.6138 - val_loss: 2.1502 - val_accuracy: 0.6446\n",
            "Epoch 7/55\n",
            "132/132 [==============================] - 1s 11ms/step - loss: 2.0703 - accuracy: 0.6302 - val_loss: 2.0955 - val_accuracy: 0.6512\n",
            "Epoch 8/55\n",
            "132/132 [==============================] - 1s 11ms/step - loss: 2.0030 - accuracy: 0.6404 - val_loss: 2.0456 - val_accuracy: 0.6588\n",
            "Epoch 9/55\n",
            "132/132 [==============================] - 1s 11ms/step - loss: 1.9376 - accuracy: 0.6522 - val_loss: 1.9952 - val_accuracy: 0.6776\n",
            "Epoch 10/55\n",
            "132/132 [==============================] - 1s 11ms/step - loss: 1.8768 - accuracy: 0.6706 - val_loss: 1.9527 - val_accuracy: 0.6843\n",
            "Epoch 11/55\n",
            "132/132 [==============================] - 1s 11ms/step - loss: 1.8243 - accuracy: 0.6794 - val_loss: 1.9190 - val_accuracy: 0.6846\n",
            "Epoch 12/55\n",
            "132/132 [==============================] - 1s 11ms/step - loss: 1.7797 - accuracy: 0.6859 - val_loss: 1.8941 - val_accuracy: 0.6904\n",
            "Epoch 13/55\n",
            "132/132 [==============================] - 1s 11ms/step - loss: 1.7441 - accuracy: 0.6903 - val_loss: 1.8684 - val_accuracy: 0.6936\n",
            "Epoch 14/55\n",
            "132/132 [==============================] - 1s 11ms/step - loss: 1.7100 - accuracy: 0.6930 - val_loss: 1.8532 - val_accuracy: 0.6922\n",
            "Epoch 15/55\n",
            "132/132 [==============================] - 1s 11ms/step - loss: 1.6830 - accuracy: 0.6963 - val_loss: 1.8363 - val_accuracy: 0.6965\n",
            "Epoch 16/55\n",
            "132/132 [==============================] - 1s 11ms/step - loss: 1.6612 - accuracy: 0.6976 - val_loss: 1.8295 - val_accuracy: 0.6969\n",
            "Epoch 17/55\n",
            "132/132 [==============================] - 1s 11ms/step - loss: 1.6389 - accuracy: 0.7010 - val_loss: 1.8142 - val_accuracy: 0.7025\n",
            "Epoch 18/55\n",
            "132/132 [==============================] - 1s 11ms/step - loss: 1.6198 - accuracy: 0.7034 - val_loss: 1.8091 - val_accuracy: 0.7031\n",
            "Epoch 19/55\n",
            "132/132 [==============================] - 1s 11ms/step - loss: 1.6023 - accuracy: 0.7071 - val_loss: 1.7985 - val_accuracy: 0.7045\n",
            "Epoch 20/55\n",
            "132/132 [==============================] - 1s 11ms/step - loss: 1.5835 - accuracy: 0.7091 - val_loss: 1.7973 - val_accuracy: 0.7040\n",
            "Epoch 21/55\n",
            "132/132 [==============================] - 1s 11ms/step - loss: 1.5682 - accuracy: 0.7121 - val_loss: 1.7822 - val_accuracy: 0.7072\n",
            "Epoch 22/55\n",
            "132/132 [==============================] - 1s 11ms/step - loss: 1.5505 - accuracy: 0.7130 - val_loss: 1.7801 - val_accuracy: 0.7082\n",
            "Epoch 23/55\n",
            "132/132 [==============================] - 1s 11ms/step - loss: 1.5361 - accuracy: 0.7153 - val_loss: 1.7693 - val_accuracy: 0.7087\n",
            "Epoch 24/55\n",
            "132/132 [==============================] - 1s 11ms/step - loss: 1.5209 - accuracy: 0.7166 - val_loss: 1.7630 - val_accuracy: 0.7105\n",
            "Epoch 25/55\n",
            "132/132 [==============================] - 1s 11ms/step - loss: 1.5083 - accuracy: 0.7188 - val_loss: 1.7532 - val_accuracy: 0.7121\n",
            "Epoch 26/55\n",
            "132/132 [==============================] - 1s 11ms/step - loss: 1.4931 - accuracy: 0.7214 - val_loss: 1.7454 - val_accuracy: 0.7140\n",
            "Epoch 27/55\n",
            "132/132 [==============================] - 1s 11ms/step - loss: 1.4777 - accuracy: 0.7221 - val_loss: 1.7429 - val_accuracy: 0.7139\n",
            "Epoch 28/55\n",
            "132/132 [==============================] - 1s 11ms/step - loss: 1.4664 - accuracy: 0.7241 - val_loss: 1.7423 - val_accuracy: 0.7143\n",
            "Epoch 29/55\n",
            "132/132 [==============================] - 1s 11ms/step - loss: 1.4515 - accuracy: 0.7261 - val_loss: 1.7377 - val_accuracy: 0.7128\n",
            "Epoch 30/55\n",
            "132/132 [==============================] - 1s 11ms/step - loss: 1.4409 - accuracy: 0.7257 - val_loss: 1.7314 - val_accuracy: 0.7151\n",
            "Epoch 31/55\n",
            "132/132 [==============================] - 1s 11ms/step - loss: 1.4293 - accuracy: 0.7276 - val_loss: 1.7331 - val_accuracy: 0.7140\n",
            "Epoch 32/55\n",
            "132/132 [==============================] - 1s 11ms/step - loss: 1.4179 - accuracy: 0.7277 - val_loss: 1.7229 - val_accuracy: 0.7151\n",
            "Epoch 33/55\n",
            "132/132 [==============================] - 1s 11ms/step - loss: 1.4073 - accuracy: 0.7294 - val_loss: 1.7252 - val_accuracy: 0.7159\n",
            "Epoch 34/55\n",
            "132/132 [==============================] - 1s 11ms/step - loss: 1.3976 - accuracy: 0.7306 - val_loss: 1.7213 - val_accuracy: 0.7165\n",
            "Epoch 35/55\n",
            "132/132 [==============================] - 1s 11ms/step - loss: 1.3878 - accuracy: 0.7319 - val_loss: 1.7227 - val_accuracy: 0.7162\n",
            "Epoch 36/55\n",
            "132/132 [==============================] - 1s 11ms/step - loss: 1.3779 - accuracy: 0.7329 - val_loss: 1.7210 - val_accuracy: 0.7172\n",
            "Epoch 37/55\n",
            "132/132 [==============================] - 1s 11ms/step - loss: 1.3695 - accuracy: 0.7335 - val_loss: 1.7219 - val_accuracy: 0.7166\n",
            "Epoch 38/55\n",
            "132/132 [==============================] - 1s 11ms/step - loss: 1.3600 - accuracy: 0.7342 - val_loss: 1.7196 - val_accuracy: 0.7173\n",
            "Epoch 39/55\n",
            "132/132 [==============================] - 1s 11ms/step - loss: 1.3537 - accuracy: 0.7357 - val_loss: 1.7195 - val_accuracy: 0.7185\n",
            "Epoch 40/55\n",
            "132/132 [==============================] - 1s 11ms/step - loss: 1.3442 - accuracy: 0.7367 - val_loss: 1.7187 - val_accuracy: 0.7176\n",
            "Epoch 41/55\n",
            "132/132 [==============================] - 1s 11ms/step - loss: 1.3341 - accuracy: 0.7374 - val_loss: 1.7218 - val_accuracy: 0.7188\n",
            "Epoch 42/55\n",
            "132/132 [==============================] - 1s 11ms/step - loss: 1.3263 - accuracy: 0.7384 - val_loss: 1.7212 - val_accuracy: 0.7192\n",
            "Epoch 43/55\n",
            "132/132 [==============================] - 1s 11ms/step - loss: 1.3202 - accuracy: 0.7390 - val_loss: 1.7214 - val_accuracy: 0.7181\n",
            "Epoch 44/55\n",
            "132/132 [==============================] - 1s 11ms/step - loss: 1.3127 - accuracy: 0.7402 - val_loss: 1.7181 - val_accuracy: 0.7204\n",
            "Epoch 45/55\n",
            "132/132 [==============================] - 1s 11ms/step - loss: 1.3056 - accuracy: 0.7392 - val_loss: 1.7238 - val_accuracy: 0.7200\n",
            "Epoch 46/55\n",
            "132/132 [==============================] - 1s 11ms/step - loss: 1.2971 - accuracy: 0.7410 - val_loss: 1.7214 - val_accuracy: 0.7200\n",
            "Epoch 47/55\n",
            "132/132 [==============================] - 1s 11ms/step - loss: 1.2892 - accuracy: 0.7423 - val_loss: 1.7243 - val_accuracy: 0.7212\n",
            "Epoch 48/55\n",
            "132/132 [==============================] - 1s 11ms/step - loss: 1.2817 - accuracy: 0.7416 - val_loss: 1.7235 - val_accuracy: 0.7220\n",
            "Epoch 49/55\n",
            "132/132 [==============================] - 1s 11ms/step - loss: 1.2757 - accuracy: 0.7427 - val_loss: 1.7273 - val_accuracy: 0.7210\n",
            "Epoch 50/55\n",
            "132/132 [==============================] - 1s 11ms/step - loss: 1.2692 - accuracy: 0.7439 - val_loss: 1.7300 - val_accuracy: 0.7216\n",
            "Epoch 51/55\n",
            "132/132 [==============================] - 1s 11ms/step - loss: 1.2595 - accuracy: 0.7456 - val_loss: 1.7358 - val_accuracy: 0.7212\n",
            "Epoch 52/55\n",
            "132/132 [==============================] - 1s 11ms/step - loss: 1.2544 - accuracy: 0.7447 - val_loss: 1.7320 - val_accuracy: 0.7207\n",
            "Epoch 53/55\n",
            "132/132 [==============================] - 1s 11ms/step - loss: 1.2483 - accuracy: 0.7465 - val_loss: 1.7335 - val_accuracy: 0.7214\n",
            "Epoch 54/55\n",
            "132/132 [==============================] - 1s 11ms/step - loss: 1.2442 - accuracy: 0.7468 - val_loss: 1.7327 - val_accuracy: 0.7208\n",
            "Epoch 55/55\n",
            "132/132 [==============================] - 1s 11ms/step - loss: 1.2343 - accuracy: 0.7474 - val_loss: 1.7398 - val_accuracy: 0.7221\n"
          ]
        }
      ]
    },
    {
      "cell_type": "code",
      "source": [
        "import matplotlib.pyplot as plt\n",
        "import seaborn as sns\n",
        "\n",
        "epoch_count = range(1, len(hist.history['accuracy']) + 1)\n",
        "sns.lineplot(x=epoch_count,  y=hist.history['loss'], label='train')\n",
        "sns.lineplot(x=epoch_count,  y=hist.history['val_loss'], label='valid')\n",
        "plt.show()"
      ],
      "metadata": {
        "colab": {
          "base_uri": "https://localhost:8080/",
          "height": 430
        },
        "id": "mpu8iJxCFVLT",
        "outputId": "6d4fc1e1-9184-4487-e158-86d9915492ab"
      },
      "execution_count": 122,
      "outputs": [
        {
          "output_type": "display_data",
          "data": {
            "text/plain": [
              "<Figure size 640x480 with 1 Axes>"
            ],
            "image/png": "[encoded data removed]"
          },
          "metadata": {}
        }
      ]
    },
    {
      "cell_type": "markdown",
      "metadata": {
        "id": "Zbwn0ekDy_s2"
      },
      "source": [
        "### 5 - Inferencia\n",
        "Experimentar el funcionamiento de su modelo. Recuerde que debe realizar la inferencia de los modelos por separado de encoder y decoder."
      ]
    },
    {
      "cell_type": "code",
      "source": [
        "# Armar los conversores de índice a palabra:\n",
        "idx2word_input = {v:k for k, v in word2idx_input.items()}\n",
        "idx2word_target = {v:k for k, v in word2idx_output.items()}"
      ],
      "metadata": {
        "id": "_Mf6KOCChAeQ"
      },
      "execution_count": 123,
      "outputs": []
    },
    {
      "cell_type": "code",
      "source": [
        "def get_answer_sentence(input_seq):\n",
        "    # Se transforma la sequencia de entrada a los estados \"h\" y \"c\" de la LSTM\n",
        "    # para enviar la primera vez al decoder\n",
        "    states_value = encoder_model.predict(input_seq, verbose=0)\n",
        "\n",
        "    # Se inicializa la secuencia de entrada al decoder como \"<sos>\"\n",
        "    target_seq = np.zeros((1, 1))\n",
        "    target_seq[0, 0] = word2idx_output['<sos>']\n",
        "\n",
        "    # Se obtiene el índice que finaliza la inferencia\n",
        "    eos = word2idx_output['<eos>']\n",
        "\n",
        "    output_sentence = []\n",
        "    for _ in range(output_len):\n",
        "        # Predicción del próximo elemento\n",
        "        output_tokens, h1, c1, h2, c2 = decoder_model.predict([target_seq] + states_value, verbose=0)\n",
        "        idx = np.argmax(output_tokens[0, 0, :])\n",
        "\n",
        "        # Si es \"end of sentece <eos>\" se acaba\n",
        "        if eos == idx:\n",
        "            break\n",
        "\n",
        "        # Transformar idx a palabra\n",
        "        word = ''\n",
        "        if idx > 0:\n",
        "            word = idx2word_target[idx]\n",
        "            output_sentence.append(word)\n",
        "\n",
        "        # Actualizar los estados dada la última predicción\n",
        "        states_value = [h1, c1, h2, c2]\n",
        "\n",
        "        # Actualizar secuencia de entrada con la salida (re-alimentación)\n",
        "        target_seq[0, 0] = idx\n",
        "\n",
        "    return ' '.join(output_sentence)"
      ],
      "metadata": {
        "id": "svljtSuThC-G"
      },
      "execution_count": 124,
      "outputs": []
    },
    {
      "cell_type": "code",
      "source": [
        "i = np.random.choice(len(input_sentences))\n",
        "input_seq = encoder_input_sequences[i:i+1]\n",
        "translation = get_answer_sentence(input_seq)\n",
        "print('-')\n",
        "print('Input:', input_sentences[i])\n",
        "print('Response:', translation)"
      ],
      "metadata": {
        "colab": {
          "base_uri": "https://localhost:8080/"
        },
        "id": "ga-RmqnShFWl",
        "outputId": "8f79b166-aa4f-437b-df8d-a148a2ebe196"
      },
      "execution_count": 125,
      "outputs": [
        {
          "output_type": "stream",
          "name": "stdout",
          "text": [
            "-\n",
            "Input: i didn t ask you about it\n",
            "Response: i am a student\n"
          ]
        }
      ]
    },
    {
      "cell_type": "code",
      "source": [
        "input_test = \"I am good\"\n",
        "print('Input:', input_test)\n",
        "integer_seq_test = input_tokenizer.texts_to_sequences([input_test])[0]\n",
        "print(\"Representacion en vector de tokens de ids\", integer_seq_test)\n",
        "encoder_sequence_test = pad_sequences([integer_seq_test], maxlen=max_input_len)\n",
        "print(\"Padding del vector:\", encoder_sequence_test)\n",
        "print('Input:', input_test)\n",
        "translation = get_answer_sentence(encoder_sequence_test)\n",
        "print('Response:', translation)"
      ],
      "metadata": {
        "colab": {
          "base_uri": "https://localhost:8080/"
        },
        "id": "RYEjwsWVhG62",
        "outputId": "d035bc49-654c-4d57-ed2b-c4c8d136e5b9"
      },
      "execution_count": 126,
      "outputs": [
        {
          "output_type": "stream",
          "name": "stdout",
          "text": [
            "Input: I am good\n",
            "Representacion en vector de tokens de ids [1, 9, 24]\n",
            "Padding del vector: [[ 0  0  0  0  0  0  1  9 24]]\n",
            "Input: I am good\n",
            "Response: what do you do for a living\n"
          ]
        }
      ]
    },
    {
      "cell_type": "code",
      "source": [
        "def get_bot_answer(input):\n",
        "  integer_seq_test = input_tokenizer.texts_to_sequences([input])[0]\n",
        "  encoder_sequence_test = pad_sequences([integer_seq_test], maxlen=max_input_len)\n",
        "  print(get_answer_sentence(encoder_sequence_test))"
      ],
      "metadata": {
        "id": "Pt7A9TdsCcF5"
      },
      "execution_count": 127,
      "outputs": []
    },
    {
      "cell_type": "code",
      "source": [
        "get_bot_answer('Do you read?')"
      ],
      "metadata": {
        "colab": {
          "base_uri": "https://localhost:8080/"
        },
        "id": "mMJv4rpxGnQi",
        "outputId": "c0482d9a-6f01-41d9-ba22-50f0207517e1"
      },
      "execution_count": 128,
      "outputs": [
        {
          "output_type": "stream",
          "name": "stdout",
          "text": [
            "i am not sure what you have\n"
          ]
        }
      ]
    },
    {
      "cell_type": "code",
      "source": [
        "get_bot_answer('Do you have any pet?')"
      ],
      "metadata": {
        "colab": {
          "base_uri": "https://localhost:8080/"
        },
        "id": "rJyH4jJAGyg6",
        "outputId": "e74c92af-a316-49ce-8906-340c4255d86c"
      },
      "execution_count": 129,
      "outputs": [
        {
          "output_type": "stream",
          "name": "stdout",
          "text": [
            "yes\n"
          ]
        }
      ]
    },
    {
      "cell_type": "code",
      "source": [
        "get_bot_answer('Where are you from?')"
      ],
      "metadata": {
        "id": "8tk0f9NvG7pS",
        "outputId": "3ea55bfe-afdb-4fc0-bdd1-6fada94c913d",
        "colab": {
          "base_uri": "https://localhost:8080/"
        }
      },
      "execution_count": 130,
      "outputs": [
        {
          "output_type": "stream",
          "name": "stdout",
          "text": [
            "i am not sure\n"
          ]
        }
      ]
    },
    {
      "cell_type": "code",
      "source": [
        "get_bot_answer('How are you?')"
      ],
      "metadata": {
        "id": "_v0zuWhjG8z-",
        "outputId": "5bffcdf7-6e14-464c-99b7-3e891fbe398b",
        "colab": {
          "base_uri": "https://localhost:8080/"
        }
      },
      "execution_count": 131,
      "outputs": [
        {
          "output_type": "stream",
          "name": "stdout",
          "text": [
            "i am fine\n"
          ]
        }
      ]
    },
    {
      "cell_type": "code",
      "source": [
        "get_bot_answer('What is life?')"
      ],
      "metadata": {
        "colab": {
          "base_uri": "https://localhost:8080/"
        },
        "id": "W4EDeiCG6Tft",
        "outputId": "2634a1aa-83dd-4f6e-fc6a-f14250e8afdc"
      },
      "execution_count": 132,
      "outputs": [
        {
          "output_type": "stream",
          "name": "stdout",
          "text": [
            "i love to go to the beach\n"
          ]
        }
      ]
    },
    {
      "cell_type": "code",
      "source": [
        "get_bot_answer('Are you a president?')"
      ],
      "metadata": {
        "colab": {
          "base_uri": "https://localhost:8080/"
        },
        "id": "5fapO6Iu9p1_",
        "outputId": "d67f78e6-8190-4d48-fa2f-9720102784fe"
      },
      "execution_count": 133,
      "outputs": [
        {
          "output_type": "stream",
          "name": "stdout",
          "text": [
            "i am not sure what you have\n"
          ]
        }
      ]
    },
    {
      "cell_type": "code",
      "source": [
        "get_bot_answer('Are you a vegan?')"
      ],
      "metadata": {
        "colab": {
          "base_uri": "https://localhost:8080/"
        },
        "id": "tC9ZNCDt9uiv",
        "outputId": "bf02cb0b-aea4-4eeb-bf98-dc235919b701"
      },
      "execution_count": 134,
      "outputs": [
        {
          "output_type": "stream",
          "name": "stdout",
          "text": [
            "i am not sure\n"
          ]
        }
      ]
    },
    {
      "cell_type": "code",
      "source": [],
      "metadata": {
        "id": "0LVwerNo9zZN"
      },
      "execution_count": null,
      "outputs": []
    }
  ],
  "metadata": {
    "colab": {
      "provenance": [],
      "gpuType": "L4"
    },
    "kernelspec": {
      "display_name": "Python 3",
      "name": "python3"
    },
    "language_info": {
      "name": "python",
      "version": "3.10.6"
    },
    "vscode": {
      "interpreter": {
        "hash": "916dbcbb3f70747c44a77c7bcd40155683ae19c65e1c03b4aa3499c5328201f1"
      }
    },
    "accelerator": "GPU"
  },
  "nbformat": 4,
  "nbformat_minor": 0
}